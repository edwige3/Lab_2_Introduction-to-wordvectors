{
  "cells": [
    {
      "cell_type": "markdown",
      "metadata": {
        "id": "view-in-github",
        "colab_type": "text"
      },
      "source": [
        "<a href=\"https://colab.research.google.com/github/edwige3/Lab_2_Introduction-to-wordvectors/blob/main/Raissa_Edwige__intro_to_wordvectors.ipynb\" target=\"_parent\"><img src=\"https://colab.research.google.com/assets/colab-badge.svg\" alt=\"Open In Colab\"/></a>"
      ]
    },
    {
      "cell_type": "markdown",
      "metadata": {
        "id": "Y8KprkIQJ69R"
      },
      "source": [
        "\n",
        "<h1 style=\"font-family:verdana;font-size:300%;text-align:center;background-color:#f2f2f2;color:#0d0d0d\">AMMI NLP - Review sessions</h1>\n",
        "\n",
        "<h1 style=\"font-family:verdana;font-size:180%;text-align:Center;color:#993333\"> Lab 2: Introduction to wordvectors </h1>"
      ]
    },
    {
      "cell_type": "markdown",
      "metadata": {
        "id": "ZkRbc15QJ69S"
      },
      "source": [
        "**Big thanks to Amr Khalifa who improved this lab and made it to a Jupyter Notebook!**"
      ]
    },
    {
      "cell_type": "code",
      "execution_count": 57,
      "metadata": {
        "id": "tOhvyQAZJ69S"
      },
      "outputs": [],
      "source": [
        "import io, sys\n",
        "import numpy as np"
      ]
    },
    {
      "cell_type": "code",
      "execution_count": 58,
      "metadata": {
        "id": "nTNqsaelJ69T"
      },
      "outputs": [],
      "source": [
        "def load_vectors(filename):\n",
        "    fin = io.open(filename, 'r', encoding='utf-8', newline='\\n')\n",
        "    n, d = map(int, fin.readline().split())\n",
        "    data = {}\n",
        "    for line in fin:\n",
        "        tokens = line.rstrip().split(' ')\n",
        "        data[tokens[0]] = np.asarray([float(x) for x in tokens[1:]])\n",
        "    return data"
      ]
    },
    {
      "cell_type": "code",
      "execution_count": 60,
      "metadata": {
        "id": "taMk19LGJ69T",
        "colab": {
          "base_uri": "https://localhost:8080/"
        },
        "outputId": "5eeaceb3-ffeb-44c3-f597-659efdc91702"
      },
      "outputs": [
        {
          "output_type": "stream",
          "name": "stdout",
          "text": [
            "\n",
            " ** Word vectors ** \n",
            "\n",
            "<class 'numpy.ndarray'> 300\n"
          ]
        }
      ],
      "source": [
        "# Loading word vectors\n",
        "\n",
        "print('')\n",
        "print(' ** Word vectors ** ')\n",
        "print('')\n",
        "\n",
        "'''\n",
        "word_vectors is a dictionary that maps words to their numerical word vector\n",
        "[word (string)] = [np-array] \n",
        "'''\n",
        "word_vectors = load_vectors('wiki.en.vec')\n",
        "\n",
        "tree_vector = word_vectors['tree']\n",
        "print(type(tree_vector), len(tree_vector))"
      ]
    },
    {
      "cell_type": "code",
      "execution_count": 61,
      "metadata": {
        "id": "AgwjARbPJ69U"
      },
      "outputs": [],
      "source": [
        "## This function computes the cosine similarity between vectors u and v\n",
        "\n",
        "def cosine(u, v):\n",
        "    '''\n",
        "    Parameters:\n",
        "    u : 1-D numpy array\n",
        "    v : 1-D numpy array \n",
        "    \n",
        "    Returns:\n",
        "    cos (float) : value of the cosine similairy between vectors u, v \n",
        "    '''\n",
        "    ## FILL CODE\n",
        "    # Compute the dot product between u and v (≈1 line) , or the scalar , we can also used  (u transpose * v)\n",
        "    dot = np.dot(u, v) \n",
        "    # Compute the L2 norm of u (≈1 line)\n",
        "    norm_u = np.sqrt(np.sum(u**2))\n",
        "    # Compute the L2 norm of v (≈1 line)\n",
        "    norm_v = np.sqrt(np.sum(v**2))\n",
        "    # Compute the cosine similarity defined by formula (1) (≈1 line)\n",
        "    cos = dot / np.dot(norm_u, norm_v)\n",
        "    return cos \n"
      ]
    },
    {
      "cell_type": "code",
      "execution_count": 62,
      "metadata": {
        "id": "jvw8VgfEJ69U",
        "colab": {
          "base_uri": "https://localhost:8080/"
        },
        "outputId": "a56e61f2-388c-43d0-fa55-a09a6b422154"
      },
      "outputs": [
        {
          "output_type": "stream",
          "name": "stdout",
          "text": [
            "similarity(apple, apples) = 0.637\n",
            "similarity(apple, banana) = 0.431\n",
            "similarity(apple, tiger) = 0.212\n"
          ]
        }
      ],
      "source": [
        "# compute similarity between words\n",
        "\n",
        "print('similarity(apple, apples) = %.3f' %\n",
        "      cosine(word_vectors['apple'], word_vectors['apples']))\n",
        "print('similarity(apple, banana) = %.3f' %\n",
        "      cosine(word_vectors['apple'], word_vectors['banana']))\n",
        "print('similarity(apple, tiger) = %.3f' %\n",
        "      cosine(word_vectors['apple'], word_vectors['tiger']))"
      ]
    },
    {
      "cell_type": "code",
      "execution_count": null,
      "metadata": {
        "id": "FDSeN7eaJ69V"
      },
      "outputs": [],
      "source": [
        ""
      ]
    },
    {
      "cell_type": "code",
      "source": [
        "def nearest_neighbor(x, word_vectors, exclude_words=[]):\n",
        "    '''\n",
        "    Parameters:\n",
        "    x (string): word to find its nearest neighbour \n",
        "    word_vectors (Python dict): {word (string): np-array of word vector}\n",
        "    exclude_words (list of strings): words to be excluded from the search\n",
        "    \n",
        "    Returns:\n",
        "    best_word (string) : the word whose word vector is the nearest neighbour \n",
        "    to the word vector of x\n",
        "    '''\n",
        "    best_score = -1.0\n",
        "    best_word = None\n",
        "\n",
        "    ## FILL CODE\n",
        "    \n",
        "    key_list = list(word_vectors.keys())\n",
        "    liscos=[] #compute the similarity(list of sim)\n",
        "    for word in  word_vectors:\n",
        "      if word not in exclude_words:\n",
        "        liscos.append(cosine(x,word_vectors[word]))\n",
        "\n",
        "    nearn=np.argmax(liscos)\n",
        "    best_word=key_list[nearn]\n",
        "            \n",
        "    return best_word"
      ],
      "metadata": {
        "id": "r7SnDfXYAg8-"
      },
      "execution_count": 71,
      "outputs": []
    },
    {
      "cell_type": "code",
      "execution_count": 72,
      "metadata": {
        "id": "rQe1x41FJ69V",
        "colab": {
          "base_uri": "https://localhost:8080/"
        },
        "outputId": "5df95617-d9ad-41e7-faea-a9702299c6e3"
      },
      "outputs": [
        {
          "output_type": "stream",
          "name": "stdout",
          "text": [
            "\n",
            "The nearest neighbor of cat is: dog\n"
          ]
        }
      ],
      "source": [
        "print('')\n",
        "print('The nearest neighbor of cat is: ' +\n",
        "      nearest_neighbor(word_vectors['cat'], word_vectors, exclude_words = ['cat', 'cats']))"
      ]
    },
    {
      "cell_type": "markdown",
      "metadata": {
        "id": "edQotNbQJ69V"
      },
      "source": [
        "#### Hint (using python priorty queues with the heapq datastructure): \n",
        "if you don't want to store all the words and scores you can use the priortiy queue and only store the best K element so far. "
      ]
    },
    {
      "cell_type": "code",
      "execution_count": 73,
      "metadata": {
        "id": "ur89-A3gJ69W"
      },
      "outputs": [],
      "source": [
        "## This function return the words corresponding to the\n",
        "## K nearest neighbors of vector x.\n",
        "## You can use the functions heappush and heappop.\n",
        "\n",
        "def knn(x, vectors, k):\n",
        "    '''\n",
        "    Parameters:\n",
        "    x (string): word to find its nearest neighbour \n",
        "    word_vectors (Python dict): {word (string): np-array of word vector}\n",
        "    k (int): number of nearest neighbours to be found\n",
        "    \n",
        "    Returns: \n",
        "    k_nearest_neighbors (list of tuples): [(score, word), (score, word), ....]\n",
        "    '''\n",
        "\n",
        "    k_nearest_neighbors =[]\n",
        "    ## FILL CODE\n",
        "    key_list = list(vectors.keys())\n",
        "    liscos=[]#compute the similarity(list of sim)\n",
        "    for word in  vectors:\n",
        "      liscos.append(cosine(x,vectors[word]))\n",
        "\n",
        "    liscosort=np.argsort(liscos)\n",
        "    largest_indices = liscosort[::-1][:k]\n",
        "    for i in largest_indices:\n",
        "      k_nearest_neighbors.append((liscos[i],key_list[i]))\n",
        "   \n",
        "    return k_nearest_neighbors"
      ]
    },
    {
      "cell_type": "code",
      "execution_count": 74,
      "metadata": {
        "id": "U9fpWfPeJ69W",
        "colab": {
          "base_uri": "https://localhost:8080/"
        },
        "outputId": "46f6c2df-a5db-44ee-f9be-f67119971337"
      },
      "outputs": [
        {
          "output_type": "stream",
          "name": "stdout",
          "text": [
            "\n",
            "cat\n",
            "--------------\n",
            "cat\t1.000\n",
            "cats\t0.732\n",
            "dog\t0.638\n",
            "pet\t0.573\n",
            "rabbit\t0.549\n"
          ]
        }
      ],
      "source": [
        "knn_cat = knn(word_vectors['cat'], word_vectors, 5)\n",
        "print('')\n",
        "print('cat')\n",
        "print('--------------')\n",
        "for score, word in knn(word_vectors['cat'], word_vectors, 5):\n",
        "    print (word + '\\t%.3f' % score)\n"
      ]
    },
    {
      "cell_type": "markdown",
      "metadata": {
        "id": "namFlMphJ69W"
      },
      "source": [
        "#### Hint: \n",
        "To find the analogies, we find the nearest neighbour associated with the wordvector d\n",
        "$$ d = \\frac{c}{\\Vert {c} \\Vert} + \\frac{b}{\\Vert {b} \\Vert} - \\frac{a}{\\Vert {a} \\Vert}$$\n"
      ]
    },
    {
      "cell_type": "code",
      "execution_count": 115,
      "metadata": {
        "id": "ZpnmINKPJ69W"
      },
      "outputs": [],
      "source": [
        "## This function return the words d, such that a:b and c:d\n",
        "## verifies the same relation\n",
        "\n",
        "def analogy(a, b, c, word_vectors):\n",
        "    '''\n",
        "    Parameters:\n",
        "    a (string): word a\n",
        "    b (string): word b\n",
        "    c (string): word c\n",
        "    word_vectors (Python dict): {word (string): np-array of word vector}\n",
        "    \n",
        "    Returnrs: \n",
        "    the word d (string) associated with c such that c:d is similar to a:b \n",
        "    \n",
        "    '''\n",
        "    ## FILL CODE\n",
        "    vecs_a= word_vectors[a]\n",
        "    vecs_b= word_vectors[b]\n",
        "    vecs_c= word_vectors[c]\n",
        "\n",
        "\n",
        "    norm_a = np.linalg.norm(vecs_a)\n",
        "    norm_c = np.linalg.norm(vecs_c)\n",
        "    norm_b = np.linalg.norm(vecs_b)\n",
        "\n",
        "    d =(vecs_c/norm_c)+(vecs_b/ norm_b ) - (vecs_a/norm_a)\n",
        "\n",
        "    #return x\n",
        "\n",
        "    return nearest_neighbor(d, word_vectors)"
      ]
    },
    {
      "cell_type": "code",
      "execution_count": 116,
      "metadata": {
        "id": "igjB3Oh9J69W",
        "colab": {
          "base_uri": "https://localhost:8080/"
        },
        "outputId": "26e2253c-19d5-42cc-e9f1-825ca1ea3ac5"
      },
      "outputs": [
        {
          "output_type": "stream",
          "name": "stdout",
          "text": [
            "\n",
            "france - paris + rome = italy\n"
          ]
        }
      ],
      "source": [
        "# Word analogies\n",
        "\n",
        "print('')\n",
        "print('france - paris + rome = ' + analogy('paris', 'france', 'rome', word_vectors))"
      ]
    },
    {
      "cell_type": "markdown",
      "metadata": {
        "id": "Txo7eu_jJ69W"
      },
      "source": [
        "## A word about biases in word vectors"
      ]
    },
    {
      "cell_type": "code",
      "execution_count": 112,
      "metadata": {
        "id": "y6oQJfIjJ69X",
        "colab": {
          "base_uri": "https://localhost:8080/"
        },
        "outputId": "038ee5e1-8d60-47bc-b124-03575e71da49"
      },
      "outputs": [
        {
          "output_type": "stream",
          "name": "stdout",
          "text": [
            "\n",
            "similarity(genius, man) = 0.445\n",
            "similarity(genius, woman) = 0.325\n"
          ]
        }
      ],
      "source": [
        "## A word about biases in word vectors:\n",
        "\n",
        "print('')\n",
        "print('similarity(genius, man) = %.3f' %\n",
        "      cosine(word_vectors['man'], word_vectors['genius']))\n",
        "print('similarity(genius, woman) = %.3f' %\n",
        "      cosine(word_vectors['woman'], word_vectors['genius']))"
      ]
    },
    {
      "cell_type": "code",
      "execution_count": 145,
      "metadata": {
        "id": "znssQCmnJ69X"
      },
      "outputs": [],
      "source": [
        "## Compute the association strength between:\n",
        "##   - a word w\n",
        "##   - two sets of attributes A and B\n",
        "\n",
        "def association_strength(w, A, B, vectors):\n",
        "    '''\n",
        "    Parameters:\n",
        "    w (string): word w\n",
        "    A (list of strings): The words belonging to set A\n",
        "    B (list of strings): The words belonging to set B\n",
        "    vectors (Python dict): {word (string): np-array of word vector}\n",
        "    \n",
        "    Returnrs: \n",
        "    strength (float): the value of the association strength \n",
        "    '''\n",
        "    \n",
        "    # strength = 0.0\n",
        "    part_a = 0.0\n",
        "    part_b = 0.0 \n",
        "    \n",
        "    ## FILL CODE\n",
        "    card_A = 1/len(A)\n",
        "    card_B = 1/len(B)\n",
        "    for i in A:\n",
        "      print(i)\n",
        "      sum_A = cosine(vectors[w],vectors[i])\n",
        "      part_a +=sum_A\n",
        "    for j in B:\n",
        "      sum_B = cosine(vectors[w],vectors[j])\n",
        "      part_b +=sum_B\n",
        "    \n",
        "    strength = card_A * part_a - card_A * part_b\n",
        "\n",
        "    return strength"
      ]
    },
    {
      "cell_type": "code",
      "source": [
        "association_strength('home', male, female, word_vectors)"
      ],
      "metadata": {
        "id": "KyKS4nB-SRFG",
        "outputId": "d4c313e2-ed0e-4184-9904-a2e7a7b7df46",
        "colab": {
          "base_uri": "https://localhost:8080/"
        }
      },
      "execution_count": 149,
      "outputs": [
        {
          "output_type": "stream",
          "name": "stdout",
          "text": [
            "john\n",
            "paul\n",
            "mike\n",
            "kevin\n",
            "steve\n",
            "greg\n",
            "jeff\n",
            "bill\n"
          ]
        },
        {
          "output_type": "execute_result",
          "data": {
            "text/plain": [
              "-0.027292590003828443"
            ]
          },
          "metadata": {},
          "execution_count": 149
        }
      ]
    },
    {
      "cell_type": "code",
      "execution_count": 154,
      "metadata": {
        "id": "p2VwEwh6J69X"
      },
      "outputs": [],
      "source": [
        "## Perform the word embedding association test between:\n",
        "##   - two sets of words X and Y\n",
        "##   - two sets of attributes A and B\n",
        "\n",
        "def weat(X, Y, A, B, vectors):\n",
        "    '''\n",
        "    Parameters:\n",
        "    X (list of strings): The words belonging to set X\n",
        "    Y (list of strings): The words belonging to set Y\n",
        "    A (list of strings): The words belonging to set A\n",
        "    B (list of strings): The words belonging to set B\n",
        "    vectors (Python dict): {word (string): np-array of word vector}\n",
        "    \n",
        "    Returns: \n",
        "    score (float): the value of the group association strength  \n",
        "    '''\n",
        "    \n",
        "    score = 0.0\n",
        "    strength_Part_A =0.0\n",
        "    strength_Part_B =0.0\n",
        "    ## FILL CODE\n",
        "\n",
        "    for x in X :\n",
        "      Part_1 = association_strength(x, A, B, vectors)\n",
        "      print(Part_1)\n",
        "      strength_Part_A += Part_1\n",
        "\n",
        "    for y in Y:\n",
        "      Part_2 = association_strength(y, A, B, vectors)\n",
        "      strength_Part_B += Part_2\n",
        "\n",
        "\n",
        "    score = strength_Part_A - strength_Part_B\n",
        "    return score"
      ]
    },
    {
      "cell_type": "code",
      "source": [
        ""
      ],
      "metadata": {
        "id": "AT1RulEDRRR3"
      },
      "execution_count": null,
      "outputs": []
    },
    {
      "cell_type": "code",
      "source": [
        "word_vectors.keys()"
      ],
      "metadata": {
        "colab": {
          "base_uri": "https://localhost:8080/"
        },
        "id": "eCDz6vkuRG9t",
        "outputId": "a0ba4256-5c47-4461-fe6c-ce6cc2f94046"
      },
      "execution_count": 144,
      "outputs": [
        {
          "output_type": "execute_result",
          "data": {
            "text/plain": [
              "dict_keys([',', '.', 'the', '</s>', 'of', '-', 'in', 'and', \"'\", ')', '(', 'to', 'a', 'is', 'was', 'on', 's', 'for', 'as', 'by', 'that', 'it', 'with', 'from', 'at', 'he', 'this', 'be', 'i', 'an', 'utc', 'his', 'not', '–', 'are', 'or', 'talk', 'which', 'also', 'has', 'were', 'but', 'have', '#', 'one', 'rd', 'new', 'first', 'page', 'no', 'you', 'they', 'had', 'article', 't', 'who', '?', 'all', 'their', 'there', 'been', 'made', 'its', 'people', 'may', 'after', '%', 'other', 'should', 'two', 'score', 'her', 'can', 'would', 'more', 'if', 'she', 'about', 'when', 'time', 'team', 'american', 'such', 'th', 'do', 'discussion', 'links', 'only', 'some', 'up', 'see', 'united', 'years', 'into', '/', 'school', 'so', 'world', 'university', 'during', 'out', 'state', 'states', 'national', 'wikipedia', 'year', 'most', 'city', 'over', 'used', 'then', 'd', 'than', 'county', 'external', 'm', 'where', 'will', 'de', 'what', 'delete', 'any', 'these', 'january', 'march', 'august', 'july', 'being', 'film', 'him', 'many', 'south', 'september', 'like', 'between', 'october', 'three', 'june', 'well', 'use', 'war', 'under', 'them', 'april', 'we', 'born', 'december', 'link', 'while', 'c', 'later', 'part', 'november', 'further', 'players', 'list', 'please', 'following', 'my', 'february', 'known', 'second', 'u', 'name', 'group', 'history', 'series', 'just', 'e', 'north', 'work', 'before', 'since', 'season', 'both', 'high', 'st', 'through', 'district', 'now', '!', 'comments', 'because', 'football', 'music', 'however', 'diff', 'century', 'league', 'edits', 'debate', 'title', 'articles', 'john', 'same', 'including', 'could', 'english', 'album', 'number', 'against', 'family', 'user', 'based', 'area', 'became', 'york', 'b', 'life', 'me', 'british', 'international', 'game', '\"', 'above', 'club', 'your', 'until', 'early', 'best', 'west', 'house', 'company', 'general', 'left', 'very', 'here', 'don', 'living', 'day', 'several', 'place', 'party', 'college', 'result', 'keep', 'appropriate', 'four', 'subsequent', 'even', 'class', 'government', 'how', 'called', 'did', 'each', 'found', 'center', 'per', 'style', 'com', 'long', 'country', 'back', 'way', 'does', 'www', 'modify', 'end', 'make', 'public', 'played', 'p', 'won', 'another', 'released', 'added', 'f', 'support', 'games', 'former', 'those', 'films', 'church', 'east', 'line', 'major', 'members', 'good', 'much', 'image', 'show', 'still', 'think', 'below', 'town', 'last', 'system', 'right', 'song', 'non', 'notable', 'section', 'single', 'included', 'align', 'home', 'women', 'television', '—', 'seed', 'member', 'goals', 'sources', '}}', 'book', 'station', 'order', 'old', 'information', 'set', 'own', 'text', 'band', 'point', 'local', 'around', 'river', 'top', 'main', 'language', 'french', 'https', 'named', 'off', 'us', 'note', 'career', 'original', 'age', 'service', 'established', 'located', 're', 'said', 'website', 'population', 'air', 'german', 'law', 'military', '}', 'great', 'ii', 'within', 'clubs', 'published', 'president', 'park', 'official', '$', 'r', 'case', '>', 'london', 'times', 'although', 'small', 'third', 'different', 'due', 'get', 'village', 'closed', 'g', 'art', 'player', 'final', 'l', 'community', 'held', 'n', 'again', 'began', 'army', 'award', 'without', 'death', 'built', 'men', 'large', 'site', '+', 'using', 'deletion', 'white', 'along', 'five', 'central', 'road', 'children', 'free', 'took', 'england', 'include', 'association', 'down', 'j', 'given', 'source', 'x', 'california', 'man', 'version', 'written', 'created', 'media', 'black', 'though', 'php', 'report', 'building', 'la', 'take', 'division', 'comment', 'having', 'king', 'edit', 'stadium', 'died', 'ship', 'research', 'record', 'archive', 'places', 'undo', 'cup', 'records', 'often', 'few', 'received', 'side', 'power', 'education', 'know', 'category', 'water', 'political', 'species', 'field', 'near', '&', 'co', 'australia', 'video', 'need', 'go', 'island', 'form', 'find', 'served', 'play', 'project', 'o', 'according', '//en', 'radio', 'am', 'works', 'proposed', 'every', 'development', 'example', 'live', 'union', 'india', 'next', 'special', 'court', 'region', 'h', 'little', 'short', 'v', 'william', 'province', 'western', 'son', 'france', 'council', 'others', 'royal', 'current', 'street', 'full', 'red', 'too', 'department', 'w', 'san', 'help', 'subdivision_type', 'among', 've', 'preserved', 'james', 'open', 'force', 'position', 'head', 'director', 'father', 'track', 'http', 'canada', 'never', 'australian', 'id', 'george', 'org/w/index', 'jpg', 'level', 'late', 'summer', 'society', 'moved', 'office', 'period', 'championship', 'round', 'story', 'songs', 'various', 'file', 'days', 'land', 'business', 'tv', 'subdivision_name', 'reason', 'america', 'million', 'european', 'term', 'al', 'six', 'uk', 'post', 'why', 'produced', 'making', 'subject', 'young', 'total', 'david', 'science', 'related', 'rock', 'archived', 'railway', 'become', 'led', 'students', 'started', 'news', 'described', '//www', 'role', 'election', 'albums', 'present', 'indian', 'kingdom', 'books', 'important', 'northern', 'love', 'run', 'canadian', 'press', 'rather', 'k', 'type', 'act', 'editor', 'came', 'schools', 'program', 'once', 'issue', 'social', 'germany', 'production', 'male', 'might', 'awards', 'points', 'similar', 'professional', 'say', 'background', 'enough', 'lead', 'either', 'common', 'overlap', 'data', 'color', 'better', '•', 'person', 'services', 'bgcolor', 'museum', 'battle', 'went', 'sports', 'already', 'currently', 'hall', 'buildings', 'historic', 'date', 'deleted', 'considered', 'change', 'location', 'seems', 'must', 'yes', 'our', 'southern', 'least', 'lost', 'something', 'review', 'together', 'robert', 'fact', 'less', 'japanese', 'groups', 'content', 'birth_place', 'involved', 'isbn', 'board', 'japan', 'control', 'policy', 'modern', 'human', 'half', 'design', 'event', 'events', 'available', 'done', 'washington', 'real', 'start', 'personal', 'action', 'space', 'areas', 'doesn', 'notability', 'star', 'really', 'china', 'possible', 'paul', 'working', 'taken', 'far', 'going', 'minister', 'lake', 'reported', 'popular', 'married', 'founded', 'europe', 'author', 'away', 'independent', 'process', 'teams', 'character', 'low', 'michael', 'pages', 'light', 'big', 'seen', 'release', 'want', 'episode', 'wrote', 'republic', 'thomas', 'companies', 'via', 'russian', 'thanks', 'put', 'race', 'worked', 'route', 'recorded', 'someone', 'civil', 'police', 'charles', 'listed', 'users', 'template', 'instead', 'eastern', 'body', 'question', 'italian', 'featured', 'week', 'editors', 'texas', 'chief', 'close', 'himself', 'upon', 'match', 'q', 'roman', 'come', 'opened', 'tour', 'sea', 'actually', 'cross', 'playing', 'health', 'institute', 'caps', 'forces', 'green', 'rights', 'evidence', 'originally', 'aircraft', 'arts', 'range', 'probably', 'consensus', 'bar', 'problem', 'look', 'issues', 'alumni', 'average', 'network', 'win', 'shows', 'wife', 'returned', 'night', 'magazine', 'centre', 'joined', 'usually', 'middle', 'completed', 'elected', 'significant', 'african', 'able', 'google', 'stage', 'addition', 'ireland', 'today', 'academy', 'saint', 'self', 'itself', 'continued', 'stations', 'mother', 'appeared', 'africa', 'culture', 'spanish', 'grand', 'committee', 'things', 'fire', 'changed', 'gold', 'female', 'course', 'directed', 'months', 'whether', 'chinese', 'previous', 'developed', 'size', 'mentioned', 'add', 'festival', 'peter', 'basketball', 'across', 'move', 'performance', 'standard', 'means', 'give', 'training', 'artist', 'word', 'blue', 'primary', 'announced', 'value', 'christian', 'private', 'catholic', 'artists', 'includes', 'view', 'thus', 'almost', 'baseball', 'seven', 'appears', 'ever', 'provide', 'technology', 'olympics', 'future', 'formed', 'census', 'nd', 'images', 'los', 'results', 'return', 'quality', 'construction', 'zealand', 'front', 'cover', 'model', 'despite', 'read', 'material', 'strong', 'coach', 'henry', 'footballers', 'mark', 'rev', 'organization', 'studies', 'federal', 'richard', 'html', 'virginia', 'car', 'attack', 'conference', 'outside', 'study', 'brother', 'names', 'throughout', 'writer', 'characters', 'musical', 'nothing', 'border', 'medical', 'countries', 'past', 'writing', 'makes', 'interest', 'provided', 'killed', 'medal', 'signed', 'dr', 'largest', 'label', 'fair', 'search', 'bay', 'reference', 'especially', 'refer', 'removed', 'library', 'eventually', 'management', 'references', 'features', 'navy', 'guitar', 'hill', 'sure', 'historical', 'lower', 'daughter', 'appointed', 'reading', 'yet', 'systems', 'debut', 'movement', 'fc', 'specific', 'always', 'actor', 'natural', 'clear', 'coast', 'let', 'got', 'chicago', 'championships', 'll', 'pennsylvania', 'ten', 'performed', 'individual', 'designed', 'rule', 'etc', 'lists', 'paris', 'thought', 'brown', 'hand', 'needs', 'reliable', 'smith', 'generally', 'base', 'sometimes', 'florida', 'capital', 'valley', 'bank', 'gave', 'ground', 'reached', 'italy', 'energy', 'believe', 'leader', 'active', 'online', 'block', 'bridge', 'families', 'changes', 'y', 'followed', 'industry', 'collection', 'request', 'soon', 'leading', 'olympic', 'sold', 'writers', 'professor', 'studio', 'mexico', 'competition', 'campaign', 'org', 'theatre', 'anything', 'particular', 'empire', 'length', 'islands', 'singer', 'create', 'redirect', 'additional', 'soviet', 'market', 'words', 'producer', 'notes', 'hockey', 'novel', 'code', 'referee', 'fourth', 'sport', 'van', 'mary', 'airport', 'sound', 'status', 'irish', 'placed', 'child', 'perhaps', 'idea', 'foreign', 'municipality', 'isn', 'register', 'eight', 'problems', 'native', 'coverage', 'channel', 'parliament', 'username', 'edition', 'minor', 'says', 'whose', 'foundation', 'units', 'movie', 'runs', 'ice', 'simply', 'limited', 'unit', 'student', 'previously', 'stated', 'governor', 'complete', 'test', 'nominated', 'bill', 'parts', 'vocals', 'theory', 'regional', 'km', 'account', 'vote', 'computer', 'none', 'carolina', '>p', 'tournament', 'poland', 'behind', 'wales', 'winning', 'lot', 'hospital', 'mid', 'taking', 'mountain', 'higher', 'cases', 'angeles', 'editing', 'replaced', 'food', 'multiple', 'likely', 'terms', 'sir', 'thing', 'square', 'try', 'topic', 'woman', 'officer', 'categories', 'greek', 'recent', 'sent', 'copyright', 'speed', 'templates', 'money', 'saw', 'senior', 'selected', 'introduced', 'politician', 'true', 'required', 'regular', 'awarded', 'commercial', 'cities', 'contains', 'trade', 'mr', 'degree', 'anti', 'birth', 'sun', 'finished', 'longer', 'rugby', 'earth', 'access', 'prior', 'seasons', 'journal', 'beginning', 'software', 'famous', 'religious', 'appear', 'martin', 'el', 'god', 'bit', 'hours', 'running', 'brought', 'missing', 'economic', 'structure', 'rural', 'remained', 'decision', 'certain', 'quite', 'hit', 'minutes', 'spain', 'plays', 'whole', 'joseph', 'lord', 'web', 'decided', 'operations', 'function', 'louis', 'assembly', 'queen', 'security', 'uses', 'ohio', 'owned', 'jan', 'operation', 'call', 'successful', 'legal', 'russia', 'prince', 'mean', 'jewish', 'staff', 'establishments', 'goal', 'towards', 'agree', 'bad', 'attendance', 'populated', 'nature', 'allowed', 'captain', 'mount', 'township', 'calculated', 'structures', 'hard', 'saying', 'manager', 'earlier', 'elections', 'meet', 'box', 'lines', 'democratic', 'success', '·', 'associated', 'singles', 'traditional', 'rest', 'highway', 'matter', 'particularly', 'wide', 'month', 'care', 'admin', 'cultural', 'commission', 'didn', 'plan', 'therefore', 'practice', 'command', 'nomination', 'jersey', 'parties', 'michigan', 'entire', 'en', 'anyone', 'seem', 'overlaps', 'approximately', 'master', 'noted', 'usa', 'stop', 'cannot', 'feature', 'engine', 'response', 'needed', 'illinois', 'afd', 'experience', 'highest', 'engineering', 'silver', 'separate', 'takes', 'secretary', 'dutch', 'lee', 'recording', 'prime', 'le', 'themselves', 'rules', 'uploaded', 'trying', 'youth', 'scotland', 'iii', 'houses', 'heart', 'room', 'stone', 'shown', 'deal', 'drama', 'scores', 'dead', 'key', 'shot', 'turn', 'occupation', 'scottish', 'executive', 'plant', 'promoted', 'whom', 'villages', 'languages', 'internet', 'leave', 'feel', 'covered', 'merge', 'mostly', 'numerous', 'ancient', 'attempt', 'property', 'programs', 'picture', 'finally', 'ships', 'fiction', 'looking', 'secondary', 'nations', 'majority', 'edward', 'annual', 'digital', 'mission', 'wp', 'lived', 'claim', 'seat', 'bbc', 'profile', 'dance', 'prize', 'doing', 'georgia', 'port', 'pacific', 'castle', 'pass', 'transport', 'organizations', 'ratio', 'recently', 'fall', 'global', 'era', 'wing', 'opinion', 'commander', 'fort', 'effect', 'opening', 'fine', 'purpose', 'winter', 'genus', 'congress', 'overall', 'activities', 'met', 'income', 'massachusetts', 'comes', 'older', 'peak', 'lack', 'bass', 'super', 'complex', 'academic', 'stars', 'accounts', 'appearance', 'asian', 'asked', 'friends', 'kind', 'et', 'till', 'financial', 'entry', 'asia', 'sense', 'meaning', 'actress', 'map', '→', 'intended', 'bishop', 'boston', 'rate', 'literature', 'forest', 'voice', 'jack', 'pre', 'justice', 'britain', 'champion', 'double', 'polish', 'numbers', 'columbia', 'temple', 'defeated', 'administration', 'ended', 'claims', 'z', 'jones', 'mm', 'parish', 'israel', 'actors', 'sister', 'nine', 'scored', 'table', 'attended', 'pop', 'cd', 'else', 'newspaper', 'friend', 'unknown', 'winner', 'chart', 'initially', 'loss', 'sites', 'starting', 'architecture', 'relations', 'upper', 'supported', 'tracks', 'contract', 'face', 'directly', 'spent', 'girl', 'clearly', 'junior', 'francisco', 'politics', 'greater', 'presented', 'mar', 'ed', 'cause', 'volume', 'caused', 'pagename', 'tom', 'flight', 'candidate', 'passed', 'matches', 'claimed', 'except', 'oil', 'assistant', 'surface', 'victory', 'regiment', 'stories', 'represented', 'gets', 'speedy', 'weeks', 'listing', 'allow', 'jr', 'branch', 'retired', 'communities', 'train', 'paper', 'adding', 'provides', 'remains', 'victoria', 'metal', 'wrong', 'larger', 'direct', 'frank', 'miles', 'blocked', 'launched', 'mass', 'chairman', 'comedy', 'relationship', 'knowledge', 'format', 'creek', 'meeting', 'failed', 'officers', 'draft', 'goes', 'fight', 'figure', 'faculty', 'camp', 'ran', 'variety', 'owner', 'statistics', 'raised', 'heavy', 'alexander', 'alone', 'understand', 'episodes', 'gives', 'educational', 'daily', 'williams', 'latin', 'completely', 'products', 'dark', 'attention', 'religion', 'referred', 'von', 'mind', 'oppose', 'corps', 'administrative', 'cut', 'scott', 'becoming', 'footballer', 'jean', 'mayor', 'pro', 'beach', 'descent', 'nearly', 'latter', 'leaving', 'highly', 'cast', 'territory', 'write', 'towns', 'forms', 'joe', 'inside', 'wanted', 'solid', 'individuals', 'authority', 'mention', 'projects', 'del', '%/', 'continue', 'cost', 'vice', 'drive', 'notice', 'johnson', 'forced', 'basis', 'looks', 'reasons', 'job', 'photo', 'hope', 'log', 'parents', 'entered', 'mike', 'basic', 'scientific', 'amount', 'spring', 'oxford', 'kong', 'opera', 'tried', 'critical', 'simple', 'founder', 'hong', 'told', 'husband', 'useful', 'technical', 'necessary', 'believed', 'operated', 'mountains', 'importance', 'musicians', 'hotel', 'girls', 'crew', 'feb', 'boy', 'ontario', 'nation', 'defense', 'wiki', 'champions', 'golden', 'districts', 'faith', 'racing', 'mainly', 'auto', 'unless', 'lives', 'swedish', 'hot', 'entertainment', 'turned', 'net', 'soccer', 'creation', 'product', 'tower', 'increased', 'votes', 'squadron', 'px', 'contemporary', 'subsequently', 'regarding', 'focus', 'marriage', 'questions', 'naval', 'details', 'forward', 'memorial', 'peace', 'ip', 'kept', 'iran', 'korea', 'analysis', 'winners', 'poor', 'grade', 'cricket', 'judge', 'electric', 'bc', 'exist', 'corporation', 'hold', 'featuring', 'campus', 'brazil', 'chris', 'beyond', 'fifth', 'increase', 'summary', 'remaining', 'statement', 'broadcast', 'getting', 'piano', 'des', 'novels', 'serving', 'hour', 'moving', 'resolution', 'concept', 'alternative', 'brothers', 'attacks', 'encyclopedia', 'republican', 'representatives', 'politicians', 'difficult', 'ability', 'studied', 'host', 'wall', 'immediately', 'urban', 'pakistan', 'becomes', 'marine', 'physical', 'dec', 'troops', 'interview', 'coming', 'semi', 'suggest', 'emperor', 'letter', 'couple', 'fellow', 'duke', 'tell', 'gallery', 'follow', 'windows', 'tree', 'hits', 'jazz', 'protection', 'relevant', 'count', 'situation', 'reviews', 'containing', 'classical', 'offered', 'com/', 'lady', 'netherlands', 'reports', 'influence', 'address', 'linear', 'consider', 'machine', 'domain', 'elements', 'minnesota', 'types', 'nov', 'serve', 'sydney', 'ministry', 'blood', 'distance', 'bottom', 'giving', 'boys', 'potential', 'toronto', 'edited', 'infantry', 'jun', 'formerly', 'oct', 'conflict', 'workers', 'steve', 'philadelphia', 'helped', 'der', 'nationality', 'dispute', 'scene', 'method', 'titles', 'berlin', 'conditions', 'arms', 'races', 'maybe', 'discovered', 'iron', 'extended', 'churches', 'otherwise', 'positive', 'santa', 'nom', 'longew', 'imperial', 'composed', 'latns', 'ball', 'width', 'quickly', 'correct', 'responsible', 'possibly', 'indiana', 'soldiers', 'examples', 'korean', 'timezone', 'genre', 'fish', 'senate', 'effects', 'gun', 'check', 'appearances', 'plans', 'renamed', 'sign', 'reporting', 'sweden', 'consists', 'heritage', 'tag', 'primarily', 'doctor', 'leaders', 'lies', 'inc', 'rivers', 'du', 'crime', 'liberal', 'stand', 'bob', 'existing', 'publishing', 'industrial', 'answer', 'split', 'apr', 'sex', 'mixed', 'acting', 'personnel', 'rail', 'die', 'premier', 'approach', 'wisconsin', 'sentence', 'root', 'ago', 'standards', 'comics', 'earned', 'miss', 'specifically', 'horse', 'actual', 'contributions', 'carried', 'lieutenant', 'wood', 'plants', 'initial', 'origin', 'environment', 'pretty', 'rank', 'bus', 'gas', 'direction', 'guide', 'resources', 'affairs', 'accepted', 'animals', 'nor', 'activity', 'levels', 'laws', 'jim', 'creating', 'cambridge', 'utc_offset', 'ones', 'composer', 'remove', '>u', 'agency', 'reserve', 'atlantic', 'supreme', 'weight', 'pp', 'ask', 'fighting', 'jackson', 'widely', 'rose', 'operating', 'treatment', 'linked', 'andrew', 'trial', 'expanded', 'daniel', 'certainly', 'info', 'vs', 'sciences', 'fame', 'everything', 'avenue', 'travel', 'scale', 'break', 'oregon', 'housing', 'produce', 'capacity', '#efefef', 'smaller', 'fictional', 'exchange', 'actions', 'cited', 'typically', 'settlement', 'agreement', 'translation', 'males', 'kansas', 'managed', 'bring', 'charge', 'fails', 'dedicated', 'estate', 'nearby', 'residents', 'piece', 'growth', 'trust', 'applied', 'drums', 'issued', 'murder', 'normal', 'twenty', 'commonly', 'avoid', 'tony', 'norwegian', 'criteria', 'context', 'suggested', 'revolution', 'fully', 'wars', 'prominent', 'aug', 'leaves', 'advanced', 'distribution', 'medicine', 'garden', 'reach', 'turkey', 'females', 'publications', 'impact', 'households', 'survey', 'height', 'morning', 'honor', 'deep', 'argument', 'publication', 'arthur', 'elizabeth', 'disambiguation', 'worth', 'colorado', 'median', 'maryland', 'falls', 'zone', 'solo', 'learning', 'pay', 'resolves', 'choice', 'vol', 'flag', 'engineer', 'cars', 'farm', 'wilson', 'principal', 'acquired', 'constructed', 'secret', 'poet', 'build', 'remain', 'orchestra', 'versions', 'follows', 'fixed', 'fm', 'efforts', 'documentary', 'equipment', 'ray', 'yellow', 'guard', 'pressure', 'grant', 'prison', 'freedom', 'norway', 'twice', 'sportspeople', 'store', 'taylor', 'quarter', 'designated', 'independence', 'platform', 'rome', 'ad', 'teacher', 'copy', 'effort', 'nuclear', 'pictures', 'models', 'sep', 'everyone', 'easily', 'thank', 'di', 'description', 'agreed', '£', 'institutions', 'covers', 'facilities', 'target', 'stack', 'rationale', 'stat', 'combined', 'bronze', 'sort', 'hosted', 'programming', 'sri', 'railroad', 'unique', 'defined', 'ocean', 'cell', 'missouri', 'concert', 'improve', 'biography', 'loan', 'shortly', 'contact', 'holy', 'tennessee', 'sub', 'safety', 'competed', 'stephen', 'policies', 'painting', 'price', 'entirely', 'mexican', 'leadership', 'flying', 'message', 'municipal', 'serious', 'headquarters', 'officially', 'cemetery', 'death_place', 'memory', '×', 'fields', 'generation', 'join', 'copies', 'finals', 'fox', 'continues', 'representative', 'destroyed', 'feet', 'guy', 'philippines', 'revealed', 'organized', 'serves', 'conservative', 'share', 'maria', 'disease', 'sections', 'philosophy', 'ways', 'arrived', 'divided', 'floor', 'latd', 'longd', 'labour', 'logo', 'meets', 'yard', 'largely', 'cancer', 'offer', 'tax', 'expected', 'traffic', 'concerns', 'graduated', 'guest', 'jews', 'formation', 'meant', 'economy', 'storm', 'tells', 'mile', 'protected', 'bowl', 'letters', 'providing', 'begins', 'classic', 'damage', 'harry', 'offers', 'davis', 'challenge', 'views', 'marked', 'allows', 'density', 'literary', 'fa', 'htm', 'ben', 'transportation', 'kentucky', 'sales', 'fleet', 'supporting', 'captured', 'extra', 'recognized', 'arizona', 'compared', 'theme', 'francis', 'moscow', 'interested', 'heard', 'behavior', 'transferred', 'environmental', 'blank', 'musician', 'starring', 'assigned', 'seats', 'tennis', 'percent', 'logs', 'display', 'convention', 'ring', 'joint', 'brian', 'deputy', 'planned', 'universities', 'yards', 'communist', 'agent', 'difference', 'animal', 'czech', 'positions', '}}}}', 'exactly', 'stay', 'titled', 'combat', 'palace', 'card', 'ordered', 'opposition', 'attempts', 'understanding', 'stub', 'wrestling', 'critics', 'growing', 'establish', 'hands', 'latm', 'longm', 'participated', 'revert', 'poetry', 'materials', 'ga', 'turkish', 'paid', 'promotion', 'apparently', 'battalion', 'mobile', 'additions', 'row', 'shortsummary', 'merged', 'metropolitan', 'figures', 'existence', 'eye', 'longs', 'louisiana', 'lewis', 'melbourne', 'austria', 'brigade', 'screen', 'risk', 'conducted', 'lats', 'ban', 'da', 'labor', 'legislative', 'definition', 'indeed', '#fefefe', 'draw', 'application', 'un', 'steel', 'presence', 'expansion', 'earl', 'max', 'wild', 'planning', 'comic', 'adopted', 'easy', 'plus', 'happy', 'acts', 'classes', 'iowa', 'grew', 'save', 'wins', 'theater', 'exists', 'roles', 'chance', 'prevent', 'linecolor', 'candidates', 'object', 'felt', 'powers', 'birds', 'spread', 'defeat', 'cape', 'identified', 'gained', 'regions', 'mine', 'sides', '#d', 'jul', 'showing', 'teaching', 'guidelines', 'simon', 'depth', 'lyrics', 'christmas', 'declined', 'greece', 'express', 'federation', 'voivodeship', 'journalist', 'intelligence', 'occurred', 'connection', 'displayed', 'portuguese', 'declared', 'constitution', 'presidential', 'standing', 'sons', 'plot', 'dates', 'firm', 'proper', 'ends', 'pilot', 'relatively', 'receive', 'educated', 'opposed', 'manchester', 'queensland', 'americans', 'introduction', 'directors', '–present', 'vehicle', 'stock', 'vehicles', 'israeli', 'frequently', 'hills', 'performing', 'northwest', 'drug', 'visit', 'portion', 'residence', 'walter', 'pov', 'interesting', 'moon', 'limit', 'minute', 'bell', 'athletics', 'reduced', 'wind', 'oklahoma', 'architect', 'ideas', 'electronic', 'crown', 'younger', 'anderson', 'step', 'weapons', 'unable', 'neutral', 'connected', 'switzerland', 'expatriate', 'armed', 'weekly', 'rating', 'programme', 'squad', 'medalists', 'multi', 'dynasty', 'cold', 'granted', 'socorro', 'alliance', 'methods', 'sr', 'sam', 'alabama', 'albert', 'tropical', 'vietnam', 'dvd', 'refers', 'heat', 'fans', 'surrounding', 'purposes', 'credit', 'commons', 'boat', 'iv', 'boxes', 'ethnic', 'speaking', 'fell', 'arena', 'roads', 'core', 'dog', 'kill', 'wikiproject', 'athletic', 'oldest', 'negative', 'confirmed', 'sixth', 'edge', 'jesus', 'tools', 'colonel', 'weak', 'chosen', 'brand', 'resulting', 'nfl', 'rise', 'supply', 'tradition', 'elementary', 'household', 'spirit', 'task', 'slightly', 'howard', 'incident', 'develop', 'southeast', 'sunday', 'discuss', 'stats', 'climate', 'topics', 'purchased', 'communications', 'chapter', 'broken', 'singapore', 'alongside', 'situated', 'ca', 'license', 'haven', 'deaths', 'passing', 'citizens', 'guns', 'trees', 'gone', 'greatest', 'improved', 'visual', 'pope', 'officials', 'afded', 'sat', 'glass', 'miller', 'resulted', 'posted', 'estimated', 'contain', 'brazilian', 'sexual', 'defence', 'respectively', 'concerning', 'rich', 'myself', 'fast', 'properties', 'taught', 'extensive', 'exhibition', 'speech', 'les', 'proposal', 'straight', 'ff', 'and/or', 'internal', 'effective', 'solution', 'fashion', 'foot', 'orange', 'argentina', 'brief', 'performances', 'adult', 'allowing', 'newly', 'identity', 'nominator', 'singers', 'inspired', 'discussed', 'require', 'ex', 'facility', 'transfer', 'egypt', 'cells', 'patrick', 'quebec', 'connecticut', 'scoring', 'anthony', 'permanent', 'phase', 'audience', 'motion', 'blues', 'hungarian', 'arab', 'trains', 'sets', 'wasn', 'ranked', 'unlike', 'begin', 'setting', 'eyes', 'database', 'studios', 'gmina', 'criminal', 'commonwealth', 'finish', 'communication', 'scope', 'accused', 'divisions', 'accept', 'warning', 'alan', 'objects', 'diego', 'contest', 'fighter', 'finds', 'coaches', 'beat', 'extremely', 'ford', 'swiss', 'sorry', 'houston', 'worldwide', 'showed', 'holds', 'cathedral', 'losing', 'advance', 'reality', 'broadcasting', 'adam', 'vandalism', 'enemy', 'entitled', 'youtube', 'assessed', 'billion', 'buried', 'belgium', 'respect', 'rare', 'detroit', 'graduate', 'colleges', 'explain', 'authorities', 'killing', 'maximum', 'neither', 'fan', 'notify', 'painter', 'hamilton', 'returning', 'attempted', 'universe', 'passes', 'obvious', 'suffered', 'pieces', 'apply', 'actresses', 'competitions', 'aid', 'driver', 'folk', 'dan', 'khan', '}}}', 'baby', 'denmark', 'tokyo', 'billboard', 'calling', 'anne', 'happened', 'danish', 'wants', 'formula', 'interior', 'kevin', 'weather', 'powerful', 'muslim', 'registered', 'publisher', 'preceding', 'sounds', 'eric', 'approved', 'achieved', 'douglas', 'provincial', 'fund', 'portugal', 'athletes', 'bird', 'bands', 'audio', 'cat', 'bureau', 'centuries', 'valid', 'chemical', 'items', 'lane', 'holding', 'counties', 'update', 'ncaa', 'speak', 'finding', 'domestic', 'ali', 'false', 'equivalent', 'caught', 'christ', 'ending', 'toward', 'puerto', 'perform', 'partner', 'romania', 'aviation', 'wouldn', 'failure', 'ward', 'strength', 'onto', 'knight', 'nominations', 'hungary', 'concern', 'keeping', 'recordings', 'ep', 'juan', 'functions', 'mississippi', 'ok', 'calls', 'criticism', 'involving', 'magic', 'gordon', 'treaty', 'antonio', 'selection', 'rear', 'colonial', 'motor', 'obtained', 'circuit', 'wish', 'compilation', 'harvard', 'islamic', 'determined', 'geography', 'arkansas', 'fuel', 'artillery', 'medieval', 'locations', 'inclusion', 'recognition', 'northeast', 'chamber', 'moment', 'somewhat', 'grounds', 'anyway', 'succeeded', 'historian', 'condition', 'physics', 'newspapers', 'instance', 'represent', 'allen', 'watch', 'kitt', 'protect', 'grey', 'launch', 'dave', 'philip', 'dc', 'iraq', 'changing', 'ukraine', 'municipalities', 'mix', 'tamil', 'shift', 'population_density_km', 'shared', 'austrian', 'door', 'investigation', 'institution', 'princess', 'trail', 'ultimately', 'parks', 'applications', 'hundred', 'aired', 'requirements', 'talking', 'kim', 'ltd', 'metres', 'gray', 'sector', 'dean', 'agricultural', 'unincorporated', 'incorporated', 'escape', 'orders', 'corner', 'commissioned', 'founding', 'mill', 'mrs', 'subjects', 'temperature', 'settled', 'spacewatch', 'clubnat', 'remember', 'miami', 'promote', 'values', 'spot', 'progress', 'nationalteam', 'learn', 'planet', 'oh', 'or%', 'occupied', 'usage', 'southwest', 'refused', 'borough', 'truth', 'clark', 'sufficient', 'equal', 'administrator', 'persons', 'factory', 'fought', 'derived', 'outstanding', 'magazines', 'flow', 'peer', 'attacked', 'generate', 'shape', 'creator', 'requires', 'option', 'lincoln', 'starts', 'stands', 'carry', 'establishment', 'selling', 'causes', 'mp', 'budget', 'battles', 'sky', 'legend', 'sourced', 'arrested', 'forum', 'metro', 'broke', 'strike', 'injury', 'ryan', 'zero', 'converted', 'violence', 'significantly', 'statements', 'controlled', 'welsh', 'dropped', 'roger', 'pdf', 'distinguished', 'samuel', 'translated', 'papers', 'detail', 'chapel', 'frederick', 'thousands', 'banks', 'herself', 'offensive', 'kings', 'factor', 'rename', 'replace', 'museums', 'resistance', 'junction', 'tries', 'tim', 'engines', 'contributed', 'medium', 'device', 'profit', 'dream', 'enter', 'twelve', 'universal', 'typical', 'seeing', 'skills', 'bought', 'passenger', 'cleveland', 'funding', 'agriculture', 'parent', 'decades', 'receiving', 'signal', 'reform', 'organisation', 'prix', 'column', 'defunct', 'utah', 'managers', 'qualified', 'indicate', 'ukrainian', 'gay', 'amateur', 'obviously', 'flora', 'gene', 'soul', 'op', 'alt', 'discussions', 'montreal', 'turns', 'walker', 'entrance', 'path', 'nice', 'string', 'timezone_dst', 'influenced', 'occur', 'developing', 'abandoned', 'humans', 'pair', 'flat', 'sample', 'contained', 'banned', 'utc_offset_dst', '//', 'moore', 'strongly', 'visited', 'pm', 'increasing', 'attorney', 'arm', 'mathematics', 'canal', 'charts', 'thinking', 'dublin', 'suggests', 'whatever', 'surname', 'brain', 'pittsburgh', 'blog', 'economics', 'seventh', 'alex', 'employed', 'heavily', 'authors', 'paintings', 'concerned', 'recipients', 'navigational', 'scholars', 'controversial', 'controversy', 'reverted', 'expressed', 'josé', 'bodies', 'conservation', 'maps', 'ahead', 'marie', 'arguments', 'chain', 'focused', 'readers', 'carl', 'cm', 'violation', 'offices', 'wave', 'circle', 'apart', 'invasion', 'jimmy', 'opportunity', 'determine', 'colspan', 'orthodox', 'voted', 'formal', 'describes', 'seconds', 'cycle', 'doubt', 'golf', 'walls', 'productions', 'constituency', 'closely', 'occurs', 'huge', 'andy', 'representing', 'indonesia', 'sell', 'aren', 'mon', 'drawn', 'diocese', 'tank', 'advice', 'senator', 'manner', 'generated', 'malaysia', 'asking', 'finland', 'causing', 'leads', 'lawyer', 'seattle', 'gain', 'index', 'saints', 'runner', 'crisis', 'cinema', 'matt', 'hollywood', 'reaction', 'medals', 'documents', 'reader', 'lawrence', 'pattern', 'archives', 'atlanta', 'voting', 'reviewed', 'looked', 'bear', 'perfect', 'restored', 'bruce', 'baltimore', 'baron', 'pan', 'commune', 'fantasy', 'duty', 'chair', 'scenes', 'broad', 'opposite', 'stuff', 'aged', 'streets', 'nick', 'anna', 'whitelisted', 'billy', 'extension', 'kent', 'parliamentary', 'kelly', 'shooting', 'ready', 'pick', 'ma', 'songwriter', 'aware', 'jordan', 'dictionary', 'composition', 'salt', 'stating', 'bangladesh', 'bot', 'successfully', 'benefit', 'lands', 'interests', 'scheduled', 'teachers', 'closing', 'advertising', 'contribution', 'maine', 'retirement', 'scientists', 'dam', 'ny', 'blocks', 'youthclubs', 'las', 'print', 'techniques', 'participate', 'anniversary', 'requested', 'discovery', 'explained', 'expedition', 'citation', 'assist', 'und', 'meanwhile', 'hampshire', 'creative', 'maintain', 'pierre', 'detailed', 'facts', 'frame', 'finance', 'socialist', 'script', 'camera', 'returns', 'engaged', 'assistance', 'experienced', 'underground', 'sale', 'beautiful', 'jane', 'abc', 'supposed', 'successor', 'classification', 'tool', 'mining', 'producing', 'cabinet', 'fr', 'bytes', 'ross', 'russell', 'citations', 'maintained', 'evening', 'singing', 'fifa', 'gender', 'venues', 'lakes', 'mail', 'jeff', 'electoral', 'emergency', 'mode', 'christopher', 'heads', 'proved', 'priest', 'funds', 'investment', 'romanian', 'session', 'capture', 'aspects', 'reduce', 'trophy', 'abuse', 'prefecture', 'walk', 'faced', 'normally', 'regarded', 'snow', 'shop', 'dakota', 'bush', 'coal', 'inhabitants', 'headed', 'gary', 'employees', 'error', 'invited', 'cable', 'protein', 'accident', 'decade', 'measure', 'watched', 'patients', 'downtown', 'animated', 'satellite', 'johnny', 'combination', 'courts', 'sequence', 'hook', 'clean', 'wed', 'owners', 'twin', 'distributed', 'describe', '~', 'defensive', 'islam', 'photos', 'ottoman', 'trained', 'affected', 'routes', 'ministers', 'wine', 'elsewhere', 'biggest', 'li', 'lanka', 'carlos', 'landing', 'collected', 'revival', 'rio', 'communes', 'saturday', 'mps', 'guess', 'drop', 'sarah', 'laid', 'swimming', 'membership', 'edinburgh', 'fit', 'harris', 'dallas', 'degrees', 'bachelor', 'personally', 'briefly', 'files', 'conduct', 'extreme', 'courses', 'hence', 'homes', 'reaching', 'na', 'sought', 'vision', 'demand', 'vertical', 'updated', 'marketing', 'jason', 'consisted', 'appeal', 'plane', 'quick', 'victor', 'dyk', 'solar', 'ages', 'neighborhood', 'fairly', 'wings', 'acid', 'scheme', '°', 'matters', 'rfc', 'constant', 'additionally', 'hip', 'admins', 'nova', 'proded', 'ceremony', 'chile', 'composers', 'nazi', 'scholar', 'liverpool', 'hero', 'designer', 'learned', 'instruments', 'welcome', 'hair', 'consecutive', 'movies', 'adjacent', 'pool', 'tue', 'norman', 'collections', 'belgian', 'corporate', 'austin', 'ensure', 'driving', 'phone', 'fly', 'ian', 'window', 'document', 'adams', 'collaboration', 'margaret', 'kennedy', 'leg', 'coibot', 'videos', 'assume', 'attached', 'dry', 'expand', 'bible', 'matthew', 'depending', 'serbian', 'instrument', 'covering', 'random', 'represents', 'participants', 'thorough', 'mentions', 'portrait', 'drivers', 'airlines', 'franklin', 'viewers', 'finnish', 'differences', 'venue', 'vocal', 'cricketers', 'element', 'regularly', 'rejected', 'relative', 'illegal', 'stewart', 'roof', 'leagues', 'argued', 'colour', 'morgan', 'prisoners', 'facebook', 'coordinates_display', 'attend', 'nelson', 'survived', 'insurance', 'expert', 'steam', 'cards', 'manufacturing', 'testing', 'coastal', 'yorkshire', 'rescue', 'territories', 'thu', 'thailand', 'struck', 'choose', 'vienna', 'journey', 'storage', 'costs', 'singh', 'distinct', 'notably', 'soldier', 'il', 'colony', 'evolution', 'taiwan', 'hurricane', 'judges', 'gardens', 'poems', 'consisting', 'removing', 'driven', 'responsibility', 'sentences', 'birmingham', 'engineers', 'visible', 'ft', 'substantial', 'gulf', 'installed', 'revolutionary', 'inner', 'trip', 'restaurant', 'graham', '\\\\', 'stores', 'rice', 'happen', 'prove', 'reasonable', 'skin', 'committed', 'volleyball', '_', 'chose', 'factors', 'hundreds', 'injured', 'devices', 'phrase', 'stanley', 'lemmon', 'thompson', 'suicide', 'advantage', 'automatically', 'disc', 'minimum', 'goods', 'charges', 'alfred', 'operator', 'merely', 'finishing', 'fred', 'identify', 'producers', 'ss', 'ann', 'campbell', 'portland', 'helps', 'latest', 'releases', 'victims', 'explanation', 'operate', 'threat', 'crossing', 'slow', 'poets', 'stopped', 'strategy', 'wayne', 'ranking', 'disney', 'wright', 'residential', 'associate', 'hi', 'significance', 'ruled', 'excellent', 'shouldn', 'observed', 'threatened', 'friendly', 'redirects', 'temporary', 'masters', 'peninsula', 'networks', 'passengers', 'assumed', 'artistic', 'safe', 'earliest', 'festivals', 'compete', 'png', 'hunter', 'moths', 'alaska', 'mi', 'partnership', 'maintenance', 'monitoring', 'evil', 'relief', 'charlie', 'poverty', 'hop', 'cc', 'fri', 'encyclopedic', 'suspected', 'filled', 'nba', 'decide', 'breaking', 'argentine', 'resigned', 'oblast', 'handed', 'drew', 'hawaii', 'brooklyn', 'whilst', 'historians', 'pa', 'speaker', 'moth', '⚡', 'permission', 'wounded', 'racial', 'marshall', 'kg', 'gate', 'springs', 'roy', 'photography', 'helping', 'knights', 'roll', 'progressive', 'contrast', 'continuing', 'processes', 'terminal', 'executed', 'shall', 'svg', 'spouse', 'infrastructure', 'principle', 'painters', 'painted', 'properly', 'frequency', 'shaped', 'joining', 'robinson', 'waters', 'ridge', 'bridges', 'ceo', 'monument', 'mental', 'carter', 'karl', 'rowspan', 'mac', 'orleans', 'portal', 'parallel', 'regardless', 'thirty', 'giant', 'qualifying', 'murray', 'afghanistan', 'assessment', 'counter', 'bears', 'purchase', 'expression', 'backing', 'uefa', 'improvement', 'madrid', 'closure', 'wheel', 'ambassador', 'desert', 'bringing', 'iranian', 'reign', 'uncle', 'severe', 'rain', 'admiral', 'fishing', 'existed', 'raise', 'broadway', 'principles', 'grow', 'tests', 'roughly', 'tech', 'trouble', 'rico', 'paragraph', 'bat', 'prepared', 'measures', 'robin', 'hired', 'fear', 'merit', 'participation', '_title', 'massive', 'designs', 'agencies', 'whereas', 'technique', 'alberta', 'egyptian', 'clerk', 'knew', 'narrow', 'adapted', 'commissioner', 'rapid', 'credited', 'dating', 'businesses', 'bomb', 'capable', 'poem', 'stages', 'honorary', 'dragon', 'charged', 'propose', 'modified', 'fired', 'mlb', 'send', 'proof', 'practices', 'arabic', 'attractions', 'carrying', 'mouth', 'fix', 'licensed', 'symbol', 'organ', 'damaged', 'warren', 'exception', 'costa', 'unfortunately', 'jerusalem', 'replacement', 'indians', 'besides', 'soundtrack', 'virgin', 'thousand', 'vancouver', 'legislation', 'beauty', 'credits', 'buy', 'organisations', 'serbia', 'christianity', 'opinions', 'cavalry', 'tribe', 'richmond', 'chess', 'channels', 'claiming', 'exact', 'baker', 'allied', 'involvement', 'anime', 'referring', 'donald', 'sisters', 'willing', 'requests', 'unusual', 'yourself', 'impossible', 'colors', 'cook', 'drawing', 'wikimedia', 'jonathan', 'removal', 'moves', 'indicates', 'admitted', 'ownership', 'shore', 'monitored', 'nebraska', 'regulations', 'crash', 'guitarist', 'enforcement', 'supports', 'abbey', 'deleting', 'nevada', 'barry', 'tone', 'operates', 'indigenous', 'personality', 'reception', 'transit', 'buffalo', 'flowers', 'bond', 'jay', 'adventure', 'definitely', 'guinea', 'horror', 'rangers', 'pointed', 'apple', 'popularity', 'occasionally', 'coalition', 'franchise', 'starred', 'critic', 'journals', 'rolling', 'percentage', 'silent', 'laboratory', 'microsoft', 'movements', 'charter', 'suitable', 'alternate', 'offering', 'missions', 'hlist', 'sc', 'experimental', 'rooms', 'concluded', 'reputation', 'accurate', 'versus', 'websites', 'interpretation', 'tagged', 'endemic', 'chemistry', 'achieve', 'knows', 'manga', 'journalists', 'forests', 'cbs', 'comprehensive', 'symphony', 'promotional', 'electrical', 'tags', 'meters', 'jerry', 'tigers', 'commerce', 'remix', 'addressed', 'phil', 'automatic', 'gang', 'afterwards', 'printed', 'oak', 'warner', 'tend', 'ms', 'quote', 'separated', 'bishops', 'glasgow', 'essentially', 'wait', 'input', 'battery', 'favor', 'benjamin', 'apparent', 'shopping', 'patrol', ',q', 'eagle', 'mainstream', 'pc', 'angel', 'martial', 'restoration', 'delhi', 'hans', 'indicated', 'morris', 'youthyears', 'railways', 'centers', 'mills', 'helpful', 'delivered', 'components', 'victorian', 'legislature', 'tourism', 'treated', 'extent', 'kids', 'barbara', 'essay', 'circumstances', 'repeated', 'plain', 'superior', 'strategic', 'similarly', 'duties', 'effectively', 'blp', 'considering', 'arranged', 'ken', 'managerclubs', 'grammar', 'amendment', 'alleged', 'relation', 'habitat', 'spoken', 'eu', 'shell', 'mounted', 'entries', 'conflicts', 'philippine', 'montana', 'appearing', 'triple', 'boundary', 'caribbean', 'hosts', 'signs', 'seriously', 'bristol', 'warring', 'mitchell', 'industries', 'colombia', 'comparison', 'basin', 'eleven', 'ill', 'putting', 'pradesh', 'charity', 'output', 'dna', 'carbon', 'boats', 'desc', 'architectural', 'representation', 'commentary', 'rising', 'visitors', 'markets', 'plate', 'giants', 'processing', 'landscape', 'dick', 'hunt', 'em', 'summit', 'rr', 'psychology', 'ride', 'greatly', 'guardian', 'closer', 'terminus', 'losses', 'balance', 'democracy', 'submarine', 'nicholas', 'unsourced', 'usual', 'peru', 'eighth', 'instrumental', 'hindu', 'amongst', 'defender', 'riding', 'arrival', 'evans', 'turning', 'imply', 'prose', 'cargo', 'hidden', 'volunteer', 'bio', 'holder', 'sugar', 'daughters', 'wildlife', 'fun', 'integrated', 'partners', 'rates', 'grace', 'feed', 'childhood', 'accompanied', 'milan', 'photographs', 'honour', 'soil', 'server', 'manual', 'concrete', 'possibility', 'ghost', 'confused', 'tunnel', 'larry', 'styles', 'elevation', 'muhammad', 'considerable', 'stood', 'inter', 'lose', 'phoenix', 'sweet', 'waste', 'operational', 'tall', 'ongoing', 'qualify', 'constitutional', 'sporting', 'peoples', 'acceptable', 'fruit', 'decisions', 'depression', 'perspective', 'longest', 'midfielder', 'crystal', 'monastery', 'resident', 'seek', 'cincinnati', 'tied', 'surgery', 'steps', 'carrier', 'stream', 'alice', 'dj', 'kick', 'furthermore', 'strange', 'predecessor', 'bernard', 'nigeria', 'pain', 'ph', 'influential', 'punk', 'wooden', 'suggestion', 'interaction', 'nationalyears', 'retained', 'achievement', 'mechanical', 'drugs', 'missed', 'expect', 'trinity', 'classified', 'minority', 'businessman', 'grown', 'coat', 'powered', 'alive', 'nbc', 'nhl', 'keith', 'bobby', 'harbor', 'behaviour', 'croatian', 'maritime', 'terry', 'virtual', 'indoor', 'periods', 'spiritual', 'easier', 'croatia', 'lions', 'archbishop', 'luis', 'merchant', 'azerbaijan', 'lots', 'contested', 'editorial', 'initiative', 'charlotte', 'pure', 'borders', 'persian', 'marks', 'armenian', 'romantic', 'replacing', 'talent', 'unlikely', 'panel', 'jump', 'animation', 'agents', 'employment', 'trading', 'parker', 'statue', 'ac', 'dated', 'wonder', 'filed', 'provinces', 'friday', 'jobs', 'cuba', 'couldn', 'aside', 'são', 'scientist', '—preceding', 'schedule', 'waiting', 'familiar', 'suspect', 'disagree', 'suggestions', 'turner', 'forming', 'formally', 'locomotives', 'barcelona', 'se', 'consistent', 'recommended', 'desire', 'happens', 'patient', 'bulgaria', 'vi', 'vincent', 'outer', 'hear', 'texts', 'belief', 'visitor', 'vessels', 'basically', 'continental', 'hole', 'fail', 'passage', 'sees', 'wedding', 'archaeological', 'layer', 'designation', 'clan', 'revenue', 'seeking', 'couples', 'entering', 'suit', 'soft', 'weekend', 'approval', 'democrats', 'crimes', 'collins', 'infobox', 'expatriates', 'horses', 'wear', 'visiting', 'overs', 'supporters', 'cash', 'somewhere', 'dennis', 'resource', 'sculpture', 'practical', 'harrison', 'pink', 'oliver', 'limits', 'cooper', 'illustrated', 'sur', 'hell', 'statistical', 'referenced', 'arbcom', 'wolf', 'warriors', 'incidents', 'fresh', 'editions', 'roots', 'signature', 'clinical', 'premiered', 'volumes', 'worst', 'adults', 'contribute', 'necessarily', 'immediate', 'feeling', 'theories', 'essential', 'completion', 'conclusion', 'org/wiki/', 'technologies', 'strip', 'bound', 'praised', 'stayed', 'currentclub', 'hull', '−', 'diamond', 'origins', 'empty', 'eliminated', 'valuable', 'cite', 'doubles', 'branches', '@', 'honors', 'brick', 'experiences', 'beijing', 'tie', 'lgbt', 'sa', 'wickets', 'liberty', 'repeatedly', 'siege', 'baptist', 'ron', 'hebrew', 'affect', 'portrayed', 'decline', 'widespread', 'coaching', 'alpha', 'equipped', 'identical', 'submitted', 'enterprise', 'touch', 'transmission', 'rs', 'platforms', 'cave', 'filmed', 'inch', 'cool', 'bulgarian', 'debuted', 'liga', 'manhattan', 'destruction', 'activist', 'weapon', 'clay', 'keyboards', 'dangerous', 'viewed', 'lp', 'email', 'biology', 'increasingly', 'bold', 'bowling', 'os', 'compare', 'treaties', 'affiliated', 'sock', 'assault', 'regards', 'monthly', 'foster', 'cousin', 'urls', 'hispanic', 'logic', 'craig', 'trivial', 'pioneer', 'muslims', 'lay', 'rated', 'absence', 'amsterdam', 'publishers', 'tribes', 'percussion', 'runners', 'themes', '#the', 'benefits', 'guards', 'flows', 'attributed', 'stubs', 'athens', 'herbert', 'celebrated', 'sponsored', 'raf', 'regard', 'asks', 'delaware', 'neil', 'org/', 'pole', 'ref', 'historically', 'tail', 'tours', 'stable', 'decides', 'vessel', 'identification', 'delta', 'telling', 'dealing', 'writes', 'mediterranean', 'volunteers', 'reply', 'attempting', 'stuart', 'marvel', 'luke', 'grave', 'odd', 'hearing', 'unit_pref', 'uss', 'mall', 'penalty', 'solutions', 'secure', 'hugh', 'steven', 'sole', 'architects', 'characteristics', 'falling', 'spin', 'clinton', 'villa', 'select', 'metric', 'criticized', 'surviving', 'roberts', 'standings', 'biological', 'lloyd', 'munich', 'belongs', 'adelaide', 'belong', 'harold', 'norfolk', 'butler', 'coi', 'rival', 'acoustic', 'posts', 'adaptation', 'greg', 'reporter', 'url', 'absolutely', 'nobody', 'scholarship', 'vast', 'exit', 'facing', 'inquiry', 'dual', 'belt', 'noticed', 'patent', 'mathematical', 'relating', 'rarely', 'submission', 'demographics', 'crowd', 'rick', 'governments', 'bonus', 'tourist', 'mystery', 'click', 'settlements', 'walking', 'nevertheless', 'voters', 'rifle', 'component', 'civilian', 'partial', 'encouraged', 'birthday', 'eddie', 'christians', 'denver', 'petersburg', 'researchers', 'partly', 'photographer', 'runtime', 'jon', 'obama', 'picked', 'seemed', 'clock', 'violin', 'alma_mater', 'highways', 'holiday', 'distinction', 'artwork', 'makeup', 'catherine', 'font', 'farmers', 'occasions', 'au', 'guideline', 'photograph', 'struggle', 'timestamp', 'produces', 'yale', 'options', 'pen', 'procedure', 'jacob', 'convicted', 'touring', 'transition', 'anglo', 'legacy', 'denied', 'relationships', 'ottawa', 'derby', 'surrounded', 'libraries', 'competing', 'speakers', 'grades', 'hudson', 'administrators', 'sacred', 'signing', 'rob', 'citizen', 'dogs', 'argue', 'believes', 'annually', 'cardinal', 'nepal', 'intersection', 'discussing', 'reveals', 'defeating', 'disputes', 'beam', 'overseas', 'perry', 'nickname', 'ruling', 'syria', 'wells', 'contributing', 'ultimate', 'ranks', 'danny', 'retail', 'favorite', 'vermont', 'begun', 'download', 'trusted', 'appointment', 'ballet', 'jefferson', 'manageryears', 'anywhere', 'sand', 'angle', 'sessions', 'recreation', 'wearing', 'kenya', 'accessible', 'ralph', 'thread', 'disruptive', 'spend', 'ninth', 'arrest', 'choir', 'trials', 'mines', 'injuries', 'rapidly', 'rounds', 'competitive', 'opportunities', 'meetings', 'commented', 'wang', 'woods', 'exercise', 'jacques', 'objective', 'demolished', 'preferred', 'resort', 'pedro', 'robot', 'venezuela', 'segment', 'studying', 'edwards', 'aim', 'dancing', 'eagles', 'demonstrated', 'tribute', 'continuous', 'encourage', 'spider', 'acted', 'convinced', 'heroes', 'describing', 'rocks', 'bed', 'gap', 'reflect', 'mars', 'participating', 'cooperation', 'obtain', 'gothic', 'protest', 'hunting', 'rfa', 'frequent', 'conversion', 'stress', 'manufacturers', 'checkuser', 'voiced', 'innings', 'traditionally', 'jose', 'adventures', 'tiger', 'totally', 'voyage', 'concentration', 'sing', 'rocket', 'electricity', 'shadow', 'boxing', 'senators', 'doc', 'stanford', 'machines', 'vegas', 'clearer', 'saved', 'jury', 'calendar', 'noble', 'tommy', 'guilty', 'leo', 'affair', 'handle', 'extinct', 'responded', 'shares', 'scotia', 'manufacturer', 'tales', 'implementation', 'truck', 'spelling', 'item', 'load', 'customers', 'adds', 'spaces', 'cap', 'orphaned', 'ferry', 'prefer', 'push', 'lie', 'berkeley', '/km²', 'lebanon', 'madison', 'throne', 'attracted', 'ie', 'lion', 'retrieved', 'manor', 'isip', 'promoting', 'saudi', 'serial', 'abroad', 'rogers', 'lights', 'grandfather', 'gauge', 'concerts', 'elder', 'reads', 'renaissance', 'uniform', 'chase', 'aka', 'computers', 'brisbane', 'susan', 'raymond', 'flower', 'col', 'thai', 'disaster', '#f', 'survive', 'involves', 'clothing', 'murphy', 'sharp', 'behalf', 'explains', 'yugoslavia', 'buddhist', 'publicly', 'meat', 'literally', 'spam', 'telephone', 'moral', 'sung', 'partially', 'lawyers', 'citing', 'interviews', 'brunswick', 'radar', 'spending', 'grove', 'tea', 'ap', 'elite', 'bright', 'improving', 'sierra', 'heaven', 'athlete', 'aspect', 'answers', 'ted', 'consumer', 'funded', 'exclusive', 'ibn', 'manuel', 'allies', 'reviewer', 'missile', 'mechanism', 'helen', 'withdrawn', 'intention', 'mini', 'casualties', 'establishing', 'diseases', 'rhythm', 'pat', 'catch', 'poll', 'listclass', 'deck', 'newcastle', 'antarctic', 'leeds', 'lasted', 'ranges', 'listings', 'ordinary', 'insects', 'suffering', 'flash', 'worship', 'boundaries', 'blind', 'pakistani', 'assuming', 'interstate', 'patterns', 'arrangement', 'globe', 'honours', 'gross', 'gilbert', 'applies', 'gradually', 'youngest', 'managing', 'experiment', 'radical', 'gov', 'legs', 'opponent', 'diameter', 'supplies', 'pitch', 'utility', 'cleanup', 'opponents', 'regime', 'revised', 'plenty', 'genera', 'diplomatic', 'germans', 'seal', 'gregory', 'corresponding', 'concepts', 'sword', 'purple', 'pending', 'virus', 'populations', 'bull', 'drummer', 'presents', 'holland', 'congressional', 'bias', 'merger', 'remote', '\\\\frac', 'sean', 'messages', 'rebellion', 'premiere', 'physician', 'ha', 'victim', 'con', 'cloud', 'angels', 'noise', 'heading', 'duo', 'beer', 'palestinian', 'us$', 'copper', 'jurisdiction', 'implemented', 'improvements', 'ski', 'peaked', 'hms', 'loop', 'renaming', 'drum', 'dramatic', 'saskatchewan', 'talks', 'earthquake', 'rhode', 'hat', 'requirement', 'den', 'tanks', 'presidents', 'societies', 'min', 'defending', 'alcohol', 'dominated', 'sang', 'eat', 'graphics', 'constituencies', 'asp', 'coffee', 'batting', 'chancellor', 'destroy', 'tons', 'cruz', 'warsaw', 'exclusively', 'connections', 'rush', 'heights', 'playstation', 'outcome', 'apartment', 'cardinals', 'fill', 'recipient', 'correctly', 'traditions', 'fundamental', 'copyrighted', 'thin', 'chan', 'resolved', 'mario', 'departments', 'dame', 'thereafter', 'shield', 'lowest', 'fighters', 'ivan', 'writings', 'bosnia', 'sentenced', 'violent', 'caption', 'harbour', 'margin', 'auckland', 'postal', 'pirates', 'collective', 'diesel', 'liberation', 'confederate', 'devil', 'activists', 'sultan', 'rider', 'amazon', 'florence', 'marc', 'wider', 'fontsize', 'arnold', 'shah', 'si', 'blogspot', 'reduction', 'contents', 'genetic', 'somerset', 'locally', 'milk', 'romance', 'lacking', 'intellectual', 'latino', 'failing', 'mason', 'pete', 'advisory', 'es', 'arbitration', 'interface', 'hitler', 'default', 'accessed', 'lifetime', 'sheffield', 'departure', 'hindi', 'anglican', '_info', 'suggesting', 'mistake', 'residing', 'remainder', 'raising', 'embassy', 'murdered', 'sox', 'sleep', 'suspended', 'sum', 'mythology', 'bengal', 'confusion', 'bakhsh', 'oscar', 'programmes', 'therapy', 'occasion', 'exposed', 'assisted', 'possession', 'defend', 'devoted', 'graphic', 'warfare', 'milwaukee', 'informed', 'anonymous', 'reverse', 'soap', 'years_active', 'territorial', 'lisa', 'paulo', 'northwestern', 'playoffs', 'boss', 'nasa', 'sockpuppets', 'quoted', 'byzantine', 'idaho', 'poster', 'geographic', 'rebounds', 'ho', 'congo', 'venture', 'cricketer', 'worse', 'hoax', 'restricted', 'advocate', 'doors', 'naming', 'situations', 'instructions', 'sullivan', 'tables', 'leaf', 'shoot', 'substitute', 'restaurants', 'contributor', 'spoke', 'errors', 'enjoyed', 'framework', 'rocky', 'kerala', 'shakespeare', 'quantum', 'immigration', 'mirror', 'certified', 'assets', 'npov', 'potentially', 'presentation', 'cotton', 'sitting', 'tournaments', 'syndrome', 'pushpin_map', 'checked', 'forty', 'aimed', 'sourcing', 'journalism', 'upload', 'unsuccessful', 'towers', 'conductor', 'hospitals', 'bone', 'essex', 'rebuilt', 'wellington', 'ideal', 'raw', 'sharing', 'labels', 'leonard', 'watson', 'governors', 'posting', 'harvey', 'bases', 'hello', 'rabbi', 'hardware', 'ensemble', 'monster', 'pitcher', 'emphasis', 'irst', 'recovery', 'respond', 'aaron', 'lesser', 'qualification', 'organic', 'exposure', 'palestine', 'thoughts', 'needing', 'drafted', 'maurice', 'immigrants', 'variant', 'lap', 'legitimate', 'autonomous', 'wallace', 'irdt', '†', 'succession', 'throw', 'monday', 'reserves', 'donated', 'increases', 'kid', 'guidance', 'delivery', 'joan', 'fifty', 'slave', 'feedback', 'columbus', 'stones', 'manage', 'cgi', 'initiated', 'favour', 'printing', 'variable', 'theology', 'todd', 'parameters', 'traveled', 'md', 'canton', 'han', 'reed', 'celtic', 'characteristic', 'commanded', 'searching', 'inappropriate', 'switch', 'ties', 'tube', 'otto', 'debt', 'outdoor', 'navigation', 'eligible', 'experts', 'expensive', 'tier', 'gospel', 'newton', 'essays', 'shanghai', 'conventional', 'campaigns', 'formations', 'feelings', 'bath', 'venice', '#aaa', 'cats', 'linkwatcher', 'variations', 'emerged', 'socks', 'ch', 'connecting', 'flood', 'documented', 'custom', 'touchdown', 'profession', 'layout', 'academics', 'settlers', 'merging', 'sony', 'competitors', 'phillips', 'hasn', 'grass', 'reservoir', 'artificial', 'novelist', 'tip', 'prague', 'abu', 'faces', 'guitars', 'aspx', 'laura', 'fellows', 'internationally', 'attacking', 'johann', 'dreams', 'hughes', 'suburb', 'understood', 'specialized', 'warned', 'pearl', 'chorus', 'dependent', 'restrictions', 'killer', 'oakland', 'romanized', 'trio', 'influences', 'blocking', 'mtv', 'wikipedians', 'à', 'cattle', 'gear', 'gabriel', 'traded', 'skating', 'fifteen', 'palm', 'wikis', 'tale', 'demonstrate', 'vary', 'liquid', 'cycling', 'princeton', 'respective', 'voices', 'faster', 'friedrich', 'jet', 'horn', 'erected', 'burning', 'worker', 'atmosphere', 'characterized', 'syrian', 'welfare', 'java', 'monitor', 'ye', 'history}}', 'graduating', 'columns', 'reportedly', 'repair', 'bin', 'stick', 'dollars', 'organised', 'parameter', 'truly', 'resolve', 'buenos', 'parade', 'backed', 'awareness', 'depends', 'define', 'spencer', 'republicans', 'conspiracy', 'dies', 'clarke', 'rough', 'engage', 'pine', 'equation', 'feels', 'democrat', 'permitted', 'cutting', 'button', 'attending', 'brands', 'queens', 'abraham', 'neck', 'forever', 'est', 'drink', 'sheriff', 'miguel', 'aires', 'irrelevant', 'poorly', 'cfded', 'montgomery', 'vanity', 'gift', 'riders', 'functional', 'crossed', 'diverse', 'ru', 'numbered', 'quotes', 'slowly', 'xi', 'attitude', 'mouse', 'justin', 'protests', 'gods', 'amounts', 'variation', 'smart', 'prices', 'prayer', 'terrorism', 'beta', 'durham', 'householder', 'counts', 'iraqi', 'detective', 'josh', 'placing', 'somebody', 'linking', 'compositions', 'oval', 'extensively', 'filming', 'perfectly', 'mw', 'pr', 'indianapolis', 'fn', 'funeral', 'recovered', 'southeastern', 'farmer', 'protestant', 'lt', 'cameron', 'focuses', 'ranging', 'unclear', 'indonesian', 'mixing', 'mumbai', 'nashville', 'danger', 'rally', 'narrative', 'camps', 'surprise', 'manufactured', 'deployed', 'kate', 'solely', 'molecular', 'unnecessary', 'isle', 'theorem', 'homepage', 'colonies', '>l', 'cyprus', 'wake', 'brings', 'winds', 'magnetic', 'conversation', 'sussex', 'ab', 'fl', 'fastest', 'gates', 'ram', 'plastic', 'electronics', 'restore', 'stockholm', 'inn', 'buses', 'connect', 'wmflabs', 'forth', 'guests', 'radiation', 'receives', 'lancashire', 'playoff', 'cork', 'generals', 'intermediate', 'military_history', 'ba', 'verifiable', 'cheers', '//tools', 'filipino', 'reaches', 'oriented', 'hamburg', 'creates', 'orbit', 'massacre', 'dialogue', 'illness', 'wc', 'dress', 'codes', 'dawn', 'isolated', 'nancy', 'violations', 'perth', 'acategory%', ',e', 'tenure', 'ladies', 'autumn', 'ratings', 'incorrect', 'scout', 'difficulty', 'pupils', 'wealth', 'hart', 'toured', 'allegations', 'regulation', 'watching', 'lodge', 'eggs', 'disputed', 'citizenship', 'specialist', 'tasks', 'intent', 'instruction', 'ceased', 'pride', 'banner', 'friendship', 'panama', 'corruption', 'sunk', 'harm', 'ernest', 'pilots', 'pursue', 'tape', 'emigrants', 'cancelled', 'revenge', 'revision', 'dominant', 'fee', 'computing', 'examination', 'chen', 'matrix', 'das', 'biographical', 'kiss', 'valign', 'nationalist', 'luck', 'crosses', 'heavyweight', 'bid', 'appreciate', 'ce', 'enemies', 'mercury', 'interactive', 'math', 'debuts', 'preserve', 'nobel', 'grande', 'keeps', 'structural', 'marry', 'airports', 'veterans', 'airline', 'axis', 'execution', 'cult', 'reducing', 'sp', 'colin', 'chester', 'ticket', 'belonging', 'im', 'entity', 'judicial', 'explicitly', 'bombing', 'recognised', 'originated', 'applicable', 'founders', 'fitted', 'wilhelm', 'suddenly', 'parking', 'absolute', 'françois', 'locomotive', 'preparation', 'nintendo', 'declaration', 'presumably', 'burial', 'governing', 'jamaica', 'knowing', 'vladimir', 'beating', 'avg', 'methodist', 'utf', 'challenges', 'kenneth', 'evolved', 'celebration', 'discipline', 'bearing', 'belonged', 'fauna', 'manuscript', 'experiments', 'chiefs', 'compound', 'tampa', 'arabia', 'associations', 'equally', 'dealt', 'shut', 'targets', 'alien', 'withdrew', 'depicted', 'sergeant', 'diffs', 'subsidiary', 'thirteen', 'thick', 'extend', 'dismissed', 'neo', 'wire', 'phd', 'measured', 'fat', 'visits', 'linux', 'teach', 'flights', 'verse', 'bennett', 'warm', 'dynamic', 'shaw', 'breaks', 'grandson', 'monuments', 'lying', 'lords', 'michel', 'treat', 'raid', 'congregation', 'shorter', 'temperatures', 'testament', 'drinking', 'companion', 'manila', 'km²', 'punjab', 'imagine', 'consideration', 'veteran', 'doctors', 'eldest', 'carries', 'ruler', 'wise', 'shipping', 'afc', 'worthy', 'registration', 'directory', 'wyoming', 'manitoba', 'vietnamese', 'ronald', 'cuban', 'burns', 'justify', 'divine', 'suppose', 'sequel', 'fate', 'rovers', 'cole', 'oral', 'trans', 'deemed', 'boards', 'span', 'bryan', 'santiago', 'episcopal', 'terrorist', 'okay', 'waves', 'invented', 'landed', 'sandy', 'acres', 'paint', 'actively', 'indication', 'stops', 'excellence', 'integration', 'thinks', 'bibliography', 'farming', 'nonsense', 'marathon', 'beliefs', 'redundant', 'freestyle', 'aerial', '€', 'preservation', 'altitude', 'freely', 'landforms', 'simultaneously', 'psychological', 'fernando', 'cultures', 'taxes', 'marcus', 'stakes', 'dominican', 'franz', 'coins', 'oxygen', '^', 'incumbent', 'civic', 'hardly', 'isaac', 'spell', 'craft', 'inspiration', 'pairs', 'vector', 'arc', 'professionals', 'vii', 'contrary', 'accusations', 'approaches', 'baronet', 'slaves', 'mad', 'spectrum', 'client', 'dozen', 'travels', 'symbols', 'plaza', 'banking', 'inherited', 'legion', 'symptoms', 'mosque', 'guys', 'lab', 'sailing', 'orientation', 'virtually', 'generic', 'reasoning', 'stroke', 'unions', 'efficient', 'opens', 'impression', 'discover', 'relocated', 'novelists', 'roosevelt', 'dancer', 'phenomenon', 'preliminary', 'recognize', 'anchor', 'arguing', 'abilities', 'procedures', 'emotional', 'timber', 'fisher', 'prod', 'cartoon', 'disorder', 'fled', 'demands', 'lithuania', 'continent', 'fellowship', 'lock', 'relegated', 'warrant', 'pictured', 'recurring', 'overview', 'wealthy', 'acquisition', 'eve', 'filter', 'addresses', 'independently', 'slovenia', 'observation', 'roster', 'disestablished', 'challenged', 'threats', 'fallen', 'protocol', 'judgment', 'grammy', 'colours', 'distinctive', 'namely', 'opposing', 'landmark', 'package', 'controls', 'completing', 'sabha', 'prisoner', 'signals', 'owen', 'capita', 'inaugural', 'intervention', 'arriving', 'cylinder', '#e', 'tenth', 'liu', 'tested', 'renowned', 'shops', 'dome', 'philosopher', 'epic', 'stem', 'specified', 'kinds', 'davies', 'collapse', 'allan', 'sight', 'albanian', 'canyon', 'samples', 'perceived', 'celebrity', 'priests', 'louise', 'workshop', 'herzegovina', 'claude', 'fortune', 'bars', 'cornwall', 'palmer', 'presidency', 'tiny', 'fk', 'appeals', 'istanbul', 'hp', 'rookie', 'expanding', 'calgary', 'shock', 'pulled', 'stevens', 'employee', 'yang', 'housed', 'tomb', 'earning', 'innovation', 'streams', 'unity', 'lucas', 'grows', 'armenia', 'interchange', 'sized', 'proteins', 'proposals', 'swimmers', 'mainland', 'seminary', 'hamlet', 'timeline', 'realize', 'coup', 'newport', 'negotiations', 'exhibitions', 'malta', 'hate', 'westminster', 'installation', 'enters', 'goalkeeper', 'julian', 'morocco', 'efficiency', 'chapters', 'aboard', 'helicopter', 'fewer', 'fortress', 'ani', 'burned', 'displays', 'compiled', 'ips', 'contributors', 'torpedo', 'giovanni', 'chat', 'catholics', 'herald', 'chuck', 'pit', 'supplied', 'optional', 'desk', 'garrison', 'sprint', 'exile', 'surprised', 'achievements', 'biblical', 'rebels', 'te', 'denis', 'geographical', 'sit', 'alpine', 'bills', 'glacier', 'aa', 'binding', 'indicating', 'estonia', 'eating', 'saving', 'chi', 'developer', 'indie', 'difficulties', 'doctrine', 'worn', 'fork', 'simpson', 'moreover', 'maintaining', 'theological', 'upcoming', 'vocalist', 'temporarily', 'hotels', 'edmonton', 'developments', 'literacy', 'currency', 'missionary', 'arrives', 'hammer', 'dollar', 'ambassadors', 'reverts', 'twitter', 'centres', 'solomon', 'recommend', 'descendants', 'ruth', 'handling', 'customs', 'collect', 'grid', 'secured', 'certificate', 'destination', 'albania', 'indies', 'euro', 'consumption', 'feat', 'pushing', 'constantly', 'survivors', 'mansion', 'cardiff', 'temples', '_name', 'blake', 'sheet', 'lift', 'confidence', 'cuisine', 'frankfurt', 'galaxy', 'ecuador', 'breeding', 'outbreak', 'legendary', 'handball', 'georgian', 'copenhagen', 'trek', 'ignored', 'arch', 'keys', 'proceedings', 'enjoy', 'quartet', 'military_history_by_country', 'aims', 'propaganda', 'wu', 'disk', 'realized', 'ne', 'neat', 'funny', 'punishment', 'accuracy', 'businesspeople', 'meter', 'theoretical', 'suspension', 'graduation', 'flew', 'nationalcaps', 'seeds', 'lighting', 'jennifer', 'smooth', 'ah', 'customer', 'armstrong', 'southwestern', 'involve', 'philosophical', 'escaped', 'of%', 'powell', 'kills', 'taste', 'allmusic', 'requiring', 'bros', 'assertion', 'boulevard', 'northeastern', 'brooks', 'sending', 'atomic', 'antarctica', 'strikes', 'reconstruction', 'chronicle', 'traveling', 'leslie', 'ellis', 'devon', 'ghana', 'gen', 'rebel', 'duncan', 'pianist', 'canon', 'nc', 'reformed', 'pack', 'iceland', 'solve', 'cyclists', 'payment', 'suburbs', 'militia', 'afds', 'pronounced', 'exhibit', 'mph', 'glen', 'eugene', 'compromise', 'tactical', 'discovers', 'switched', 'uganda', 'jail', 'yeah', 'townships', 'somehow', 'withdraw', 'holmes', 'promise', 'deals', 'convert', 'dos', 'afternoon', 'noting', 'recall', 'arrive', 'warrior', 'mammals', 'dimensions', 'surrey', 'gaming', 'lutheran', 'ports', 'amy', 'survival', 'responses', 'badly', 'collegiate', 'scandal', 'widow', 'swing', 'nights', 'polo', 'linda', 'adr', 'consist', 'probability', 'farms', 'conferences', 'zhang', 'crazy', 'witness', 'nephew', 'sensitive', 'mutual', 'hd', 'diet', 'clients', 'fringe', 'passion', 'rings', 'stronger', 'millions', 'dialect', 'orlando', 'undergraduate', 'relay', 'wet', 'cruise', 'henri', 'publish', 'joy', 'julia', 'kitchen', 'abstract', 'snake', 'comedian', 'motorcycle', 'nadu', 'reverting', 'arsenal', 'millennium', 'assists', 'thereby', 'bow', 'andré', 'serie', 'dimensional', 'travelled', 'eurovision', 'firing', 'suite', 'doug', 'gravity', 'stored', 'departed', 'optical', 'frontier', 'evaluation', 'graph', 'org/jackbot/snottywong/cgi', 'bin/votecounter', 'hybrid', 'oslo', 'earn', 'disestablishments', 'metre', 'keyboard', 'inducted', 'nearest', 'jamie', 'decorated', 'complicated', 'nathan', 'slavery', 'circular', 'operators', 'armor', 'mechanics', 'bradford', 'leon', 'rachel', 'footage', 'strings', 'header', 'hood', 'inspector', 'warnings', 'relatives', 'plains', 'defended', 'wheels', 'criterion', 'ace', 'arrangements', 'penn', 'approached', 'joke', 'sailed', 'religions', 'authored', 'grants', 'andrews', 'moderate', 'stolen', 'tributary', 'commanding', 'pin', 'carol', 'owns', 'prototype', 'copied', 'canterbury', 'midnight', 'quarterback', 'duchy', 'bailey', 'arbitrators', 'performers', 'handled', 'exploration', 'diversity', 'sixteen', 'findings', 'repeat', 'brussels', 'nationalgoals', 'imdb', 'vcard', 'planets', 'theatrical', 'reconnaissance', 'shots', 'complaint', 'batman', 'exhibited', 'espn', 'investigate', 'verify', 'discontinued', 'absent', 'girlfriend', 'resignation', 'fossil', 'explaining', 'tang', 'inches', 'proven', 'yu', 'franco', 'dying', 'tribal', 'tyler', 'surrender', 'glenn', 'substance', 'focusing', 'luxembourg', 'colored', 'scholarly', 'administered', 'explosion', 'pushed', 'generations', 'duck', 'porter', 'permanently', 'memphis', 'salvador', 'emma', 'mit', 'zoo', 'gibson', 'wording', 'emerging', 'mere', 'notre', 'portions', 'macedonia', 'ethics', 'depot', 'curtis', 'rescued', 'gaelic', 'slovakia', 'elevated', 'jeremy', 'listen', 'impressive', 'bradley', 'surely', 'egg', 'conquest', 'rod', 'cdp', 'algorithm', 'burn', 'thesis', 'lover', 'capitol', 'comprises', 'remembered', 'ferdinand', 'marshal', 'leader_title', 'judaism', 'balls', 'nacional', 'wrestlers', 'ahmed', 'sin', 'holocaust', 'edgar', 'military_history_of_the_united_states', 'saxophone', 'retain', 'curriculum', 'wishes', 'prepare', 'ruins', 'ibm', 'rochester', 'nigerian', 'pitched', 'jesse', 'malaysian', 'atlas', 'telegraph', 'performer', 'cannon', 'encounter', 'emily', 'dissolved', 'catalogue', 'discrimination', 'er', 'refs', 'myspace', 'reveal', 'wizard', 'teen', 'spots', 'bomber', 'foods', 'quest', 'connor', 'screenplay', 'motors', 'minimal', 'muscle', 'prestigious', 'sustainable', 'chelsea', 'strict', 'kingston', 'sheep', 'andrea', 'complaints', 'xs', 'née', 'connects', 'nursing', 'defenders', 'richardson', 'triangle', 'nato', 'teeth', 'occasional', 'strictly', 'harper', 'fluid', 'bigger', 'fed', 'newfoundland', 'disbanded', 'comparable', 'documentation', 'brien', 'compounds', 'pointing', 'edmund', 'instances', '//archive', 'naturally', 'forcing', 'ussr', 'laser', 'lat', 'sculptor', 'guild', 'observer', 'worlds', 'imprisoned', 'wrestler', 'praise', 'parishes', 'bones', 'css', 'cox', 'contracts', 'consequences', 'provisions', 'circulation', 'butterfly', 'hugo', 'abolished', 'algeria', 'edu', 'sufficiently', 'armies', 'separation', 'population_blank', 'spy', 'cliff', 'technically', 'reactions', 'lithuanian', 'trick', 'curve', '//books', 'accidents', 'horizontal', 'uploader', 'legends', 'enzyme', 'freight', 'lacks', 'hydrogen', 'broadcasts', 'viii', 'caroline', 'pull', 'plymouth', 'twentieth', 'cuts', 'mediation', 'airfield', 'catalog', 'dale', 'synthesis', 'rape', 'seoul', 'engagement', 'coin', 'postal_code_type', 'lucy', 'consequently', 'platinum', 'twins', 'memories', 'robertson', 'verified', 'anthology', 'milton', 'geological', 'defining', 'dinner', 'hosting', 'thriller', 'retreat', 'albany', 'abdul', 'ignore', 'migration', 'carefully', 'magnitude', 'sudan', 'closest', 'manages', 'duration', 'henderson', '//web', 'explorer', 'marco', 'fusion', 'aids', 'gathered', 'privately', 'reflected', 'afraid', 'presbyterian', 'automobile', 'estates', 'fault', 'pound', 'allegedly', 'delay', 'developers', 'semifinals', 'belfast', 'arctic', 'ps', 'kurt', 'mayors', 'windsor', 'assumption', 'plates', 'fourteen', 'nominee', 'disruption', 'monroe', 'hearts', 'belgrade', 'victories', 'extending', 'pale', 'pursuit', 'glory', 'destroyer', 'deeply', 'lectures', 'affiliate', 'preston', 'deceased', 'speaks', 'gathering', 'angry', 'incomplete', 'enrolled', 'configuration', 'brad', 'skill', 'intense', 'tasmania', 'commitment', 'loved', 'reforms', 'rulers', 'uruguay', 'sustained', 'napoleon', 'confirm', 'breed', 'auxiliary', 'enabled', 'discography', 'licence', 'refugees', 'adrian', 'pipe', 'karen', 'altered', 'budapest', 'designers', 'fe', 'heir', 'advisor', 'illustrate', 'authorized', 'hide', 'announcement', 'compact', 'tissue', 'particles', 'refuses', 'receiver', 'civilians', 'marsh', 'vinyl', 'delayed', 'unrelated', 'encountered', 'wednesday', 'checking', 'chilean', 'hey', 'chambers', 'demo', 'nationwide', 'agrees', 'ahmad', 'santos', 'paying', 'interpreted', 'submit', 'desired', 'followers', 'observatory', 'problematic', 'springfield', 'kit', 'pcupdate', 'remarks', 'burton', 'mo', 'inns', 'coached', 'monarch', 'observations', 'footnotes', 'beetle', 'promised', 'palomar', 'cream', 'presenter', 'potter', 'su', 'copyvio', 'favourite', 'transformation', 'mcdonald', 'bavaria', 'kumar', 'nineteenth', 'severely', 'gaining', 'mixture', 'browser', 'endangered', 'mate', 'everybody', 'lyon', 'illustration', 'kyle', 'afl', 'brook', 'geometry', 'ping', 'extends', 'aggregate', 'variants', 'baroque', 'iso', 'collapsed', 'neighboring', 'integral', 'jake', 'hopes', 'cornell', 'modes', 'servant', 'gt', 'td', 'kenny', 'hurt', 'mk', 'maker', 'inline', 'carlo', 'lynn', '/http', 'stability', 'hoping', 'beneath', 'imposed', 'confusing', 'mt', 'summaries', 'beetles', 'joel', 'cf', 'jets', 'logos', 'vital', 'malcolm', 'winnipeg', 'kilometers', 'songwriters', 'buddhism', 'nose', 'respected', 'pace', 'thunder', 'centered', 'physicians', 'bolivia', 'forget', 'implies', 'crops', 'halifax', 'toll', 'monk', 'extraordinary', 'lessons', 'pub', 'paralympics', 'monte', 'maría', 'segments', 'deer', 'wireless', 'whenever', 'commenced', 'mysterious', 'consultant', 'fraser', 'formats', 'jam', 'chicken', 'enable', 'idol', 'reid', 'births', 'amazing', 'pet', 'upset', 'loves', 'stretch', 'nominate', 'striking', 'striker', 'accidentally', 'louisville', 'hopkins', 'eds', 'goddess', 'burials', 'resumed', 'satisfy', 'notion', 'voltage', 'betty', 'marion', 'geology', 'consistently', 'cyclone', 'export', 'lightning', 'impressed', '°c', 'maintains', 'logical', 'aggressive', 'jin', 'julie', 'fbi', 'yankees', 'ludwig', 'fi', 'pond', 'suburban', 'enlisted', 'moments', 'conjunction', 'interim', 'argues', 'lucky', 'targeted', 'lon', 'speedway', 'regiments', 'picks', 'prevented', 'toy', 'bicycle', 'purely', 'pd', 'interactions', 'fraud', 'lang', 'arcade', 'lecture', 'sanctuary', 'dragons', 'copa', 'careful', 'nurse', 'rivals', 'module', 'supplement', 'lens', 'patron', 'commands', 'trend', 'superintendent', 'gerald', 'rap', 'geneva', 'ash', 'blade', 'disappeared', 'array', 'patrolling', 'predominantly', 'committees', 'loose', 'boom', 'sailors', 'beaten', 'smoke', 'assassination', 'lancaster', 'reynolds', 'divorce', 'dust', 'saxon', 'healthcare', 'separately', 'sockpuppet', 'grain', 'executives', 'translations', 'zimbabwe', 'thrown', 'cohen', 'puts', 'diving', 'neighbouring', 'carroll', 'accounting', 'mesa', 'prussia', 'intelligent', 'cherry', 'underlying', 'tobacco', 'cleaned', 'varieties', 'bench', 'directions', 'ellen', 'padding', 'measurement', 'paradise', 'alexandria', 'complement', 'witch', 'attraction', 'diana', 'personalities', 'colleagues', 'busy', 'cia', 'screenwriter', 'rankings', 'aboriginal', 'commanders', 'salem', 'wagner', 'firms', 'sanctions', 'americas', 'endings', 'instructor', 'nobility', 'divorced', 'varies', 'tomorrow', 'manuscripts', 'unified', 'clarify', 'scouts', 'investigations', 'silva', 'derek', 'agenda', 'provision', 'humanity', 'admit', 'terror', 'contestants', 'trinidad', 'distant', 'burke', 'circles', 'assignment', 'releasing', 'recalled', 'shrine', 'sail', 'willie', 'karnataka', 'celebrate', 'ranch', 'jo', 'collaborated', 'vampire', 'unfree', 'playwright', 'sick', 'associates', 'heinrich', 'ethiopia', 'flags', 'tel', 'drove', 'learns', 'shorts', 'drives', 'accomplished', 'autobiography', 'recruited', 'uprising', 'edwin', 'velocity', 'terminology', 'raiders', 'coordinates', 'brighton', 'viola', 'para', 'morrison', 'propulsion', 'boxer', 'finale', 'sh', 'shoulder', 'disabled', 'joins', 'div', 'tactics', 'ernst', 'innocent', 'rapper', 'settle', 'privacy', 'boeing', 'cites', 'bunch', 'emmy', 'indo', 'distinguish', 'rosa', 'accordance', 'thermal', 'flute', 'marines', 'feminist', 'trustees', 'sculptures', 'nationally', 'bacteria', 'introduce', 'landmarks', 'disorders', 'rivalry', 'prevention', 'honored', 'healthy', 'circus', 'speculation', 'burma', 'sec', 'ka', 'ar', 'quiet', 'knee', 'deliver', 'threw', 'hypothesis', 'referendum', 'travelling', 'estonian', 'pastor', 'sofia', 'tribune', 'lasting', 'permit', 'priority', 'pounds', 'cent', 'consequence', 'rica', 'conducting', 'furniture', 'macdonald', 'honest', 'innovative', 'estimate', 'atp', 'rotation', 'syracuse', 'lecturer', 'automated', 'obscure', 'kosovo', 'classics', 'julius', 'appreciated', 'naples', 'sebastian', 'activated', 'varied', 'offense', 'advised', 'barnes', 'acknowledged', 'exceptions', 'martha', 'quarters', 'drawings', 'barely', 'hitting', 'refuge', 'maharashtra', 'conventions', 'area_blank', 'elliott', 'diplomat', 'unused', 'searches', 'brigadier', 'particle', 'malayalam', 'thursday', 'icon', 'ulster', 'genes', 'infinite', 'considerably', 'vale', 'portraits', 'paste', 'randy', 'ec', 'saxony', 'convoy', 'leader_name', 'annie', 'excessive', 'believing', 'rhine', 'mineral', 'implement', 'surgeon', 'badge', 'charleston', 'clause', 'infection', 'electron', 'governing_body', 'walt', 'cnn', 'likewise', 'tonight', 'confederation', 'accommodate', 'casino', 'doctorate', 'aux', 'guatemala', 'settings', 'mask', 'shelter', 'dorothy', 'ethnicity', 'hopefully', 'elimination', 'heath', 'pregnant', 'richards', 'theodore', 'delegates', 'blair', 'fac', 'phrases', 'crashed', 'preference', 'janeiro', 'concerto', 'headquartered', 'bits', 'construct', 'tune', 'unofficial', 'bulk', 'lighthouse', 'stan', 'highland', 'mascot', 'squadrons', 'acceptance', 'tight', 'considers', 'ai', 'hub', 'mess', 'wilderness', 'military_operations_involving_the_united_states', 'routine', 'reviewing', 'dubbed', 'dozens', 'spotted', 'harmony', 'entrepreneur', 'wars_involving_the_united_states', 'wwe', 'apollo', 'runway', 'ji', 'naked', 'anton', 'moses', 'deproded', 'legally', 'wa', 'nominating', 'fake', 'biased', 'división', 'revolt', 'equity', 'varying', 'providence', 'investors', 'reliability', 'tenor', 'fights', 'pocket', 'sad', 'troy', 'treasure', 'ion', 'rendered', 'transformed', 'roberto', 'nn', 'adoption', 'decrease', 'reserved', ',n', 'forgotten', 'lok', 'crop', 'licensing', 'advocacy', 'collecting', 'treasury', 'trumpet', 'johnston', 'uncertain', 'norton', 'collector', 'cluster', 'dear', 'georges', 'roller', 'pt', 'clothes', 'sovereign', 'enhanced', 'compensation', 'consent', 'outline', 'holdings', 'jorge', 'darkness', 'penalties', 'sk', 'bombers', 'area_total_km', 'hometown', 'holes', 'blow', 'cooking', 'vfd', 'aftermath', 'trainer', 'rican', 'measuring', 'lawsuit', 'retiring', 'chip', 'consciousness', 'archaeology', 'latvia', 'telugu', 'blogs', 'protecting', 'hardy', 'nicknamed', 'scorer', 'stamp', 'nat', 'fur', 'redirected', 'estimates', 'lit', 'ritual', 'locality', 'trace', 'marble', 'foundations', 'politically', 'nottingham', 'derivative', 'boxers', 'dimension', 'touchdowns', 'crawford', 'bats', 'yugoslav', 'tanzania', 'succeed', 'motto', 'streak', 'concentrated', 'dirty', 'hayes', 'xbox', 'identifying', 'likes', 'genres', 'galleries', 'forbes', 'councils', 'adequate', 'brass', 'bach', 'alias', 'inland', 'counsel', 'wore', 'comprising', 'tough', 'advertisement', 'protagonist', 'trails', 'demanded', 'claire', 'mistakes', 'bruno', 'dylan', 'bag', 'throwing', 'churchill', 'tan', 'spelled', 'climb', 'witnesses', 'storyline', 'thames', 'anybody', 'kazakhstan', 'bots', 'constitute', 'presenting', 'highlights', 'jumping', 'prof', 'slovak', 'skull', 'missionaries', 'ordained', 'eventual', 'hoped', 'myth', 'mandatory', 'stern', 'fees', 'bet', 'monks', 'dancers', 'quantity', 'endorse', 'inventor', 'cairo', 'graves', 'proximity', 'seemingly', 'sue', 'armament', 'barrier', 'creatures', 'logan', 'je', 'erik', 'leicester', 'ds', 'silence', 'jessica', 'plateau', 'finite', 'precedent', 'stationed', 'walsh', 'zones', 'intensity', 'exterior', 'murders', 'paragraphs', 'costume', 'bike', 'neighborhoods', 'imprisonment', 'suffolk', 'forwards', 'remarkable', 'undelete', 'differ', 'tin', 'garcia', 'madagascar', 'cameras', 'ammunition', 'fires', 'viewing', 'explore', 'builder', 'minneapolis', 'occurring', 'com/books', 'bullet', 'kerry', 'subway', 'arrow', 'economist', 'bread', 'lou', 'strategies', 'rubber', 'precise', 'rifles', 'cognitive', 'governorate', 'nest', 'slam', 'ancestry', 'portsmouth', 'miscellany', 'convince', 'com/watch', 'audiences', 'boarding', 'bonds', 'joshua', 'inhabited', 'casey', 'attract', 'nonetheless', 'eb', 'kilometres', 'pump', 'feeding', 'prey', 'ain', 'mathematician', 'diary', 'vulnerable', 'inscription', 'unencyclopedic', 'dubai', 'michelle', 'lebanese', 'productive', 'guided', 'happening', 'accordingly', 'gp', 'researcher', 'della', 'baden', 'upgraded', 'demonstration', 'equality', 'philosophers', 'spacecraft', 'trap', 'gb', 'clara', 'invitation', 'marking', 'expertise', 'admission', 'sacramento', 'certification', 'precisely', 'casting', 'reassessed', 'submarines', 'prohibited', 'supposedly', 'governance', 'sometime', 'frog', 'vague', 'tackles', 'mhz', 'secular', 'tracking', 'spa', 'publicity', 'armoured', 'cleared', 'watts', 'gibraltar', 'renewed', 'reflects', 'fever', 'melody', 'supporter', 'elaborate', 'jeffrey', 'discusses', 'surnames', 'useless', 'swift', 'tuesday', 'statlabel', 'silly', 'empress', 'capabilities', 'newman', 'scales', 'onwards', 'beatles', 'ko', 'clergy', 'jacksonville', 'sara', 'lifestyle', 'bee', 'holders', 'baltic', 'czechoslovakia', 'brandon', 'loaded', 'maya', 'evangelical', 'enterprises', 'imo', 'mature', 'physically', 'sequences', 'breast', 'beast', 'raja', 'für', 'anymore', 'educator', 'bang', 'griffin', 'rhodes', 'preparing', 'proportion', 'enrollment', 'itv', 'ana', 'ceiling', 'rainbow', 'demon', 'prussian', 'equations', 'answered', '←', 'ist', 'perception', 'distributor', 'entities', 'jackie', 'dynamics', 'fiji', 'insufficient', 'algebra', 'homer', 'larvae', 'limestone', 'johns', 'bce', 'chaos', 'chang', 'layers', 'crater', 'ki', 'chad', 'db', 'seized', 'webster', 'depicting', 'excess', 'bombardment', 'hurling', 'ashley', 'dot', 'gif', 'translator', 'cowboys', 'counted', 'hanging', 'soprano', 'interviewed', 'governmental', 'workshops', 'terrain', 'belarus', 'liked', 'console', 'nascar', 'teenage', 'applying', 'vandal', 'graduates', 'jungle', 'ballot', 'placement', 'fairy', 'tourists', 'reasonably', 'performs', 'quarterly', 'shifted', 'romans', 'rpm', 'diploma', 'km/h', 'circa', 'environments', 'collaborative', 'swan', 'carpenter', 'petition', 'boris', 'berry', '_state', 'invention', 'southampton', 'prairie', 'bend', 'app', 'finalist', 'questioned', 'explicit', 'bo', 'draws', 'governed', 'slight', 'drag', 'maxwell', 'quarterfinals', 'planes', 'everyday', 'oriental', 'manufacture', 'airing', 'acclaimed', 'coordinator', 'bombs', 'mohammad', 'bassist', 'superman', 'colombian', 'philippe', 'felix', 'bengali', 'greene', 'voluntary', 'floating', 'montenegro', 'sketch', 'lo', 'mann', 'flooding', 'escort', 'dressed', 'astronomy', 'sudden', 'variables', 'arbitrary', 'skiing', 'timothy', 'cello', 'rainfall', 'rafael', 'sphere', 'ought', 'rewrite', 'georg', 'cinematography', 'canvas', 'chest', 'krishna', 'provider', 'va', 'frances', 'crowned', 'wanting', 'carved', 'poles', 'cabin', 'civilization', 'broader', 'avoided', 'pl', 'lisbon', 'tongue', 'the%', 'endorsed', 'newer', 'eliminate', 'gng', 'panels', 'darwin', 'cheese', 'easter', 'rat', 'papua', 'insert', 'descriptions', 'debates', 'informal', 'castles', 'cry', 'loyal', 'surfaces', 'nicolas', 'institutes', 'humor', 'madonna', 'worcester', 'cooperative', 'substantially', 'trips', 'winston', 'introducing', 'llc', 'nrhp', 'drake', 'lunar', 'fountain', 'consulting', 'tends', 'patricia', 'ers', 'garcía', 'quit', 'rid', 'maple', 'aberdeen', 'verb', 'illustrations', 'mechanisms', 'reds', 'posters', 'underwent', 'leipzig', 'santo', 'engaging', 'roland', 'expelled', 'evident', 'staged', 'telecommunications', 'mc', 'strait', 'nationals', 'unanimous', 'misleading', 'sherman', 'stefan', 'sleeping', 'alto', 'crucial', 'thomson', 'directing', 'yo', 'prehistoric', 'communicate', 'alphabet', 'zagreb', 'fu', 'chef', 'ix', 'tubes', 'carnegie', 'hostile', 'prizes', 'eighteen', 'shirt', 'weird', 'namespace', 'pursued', 'loading', 'edges', 'plantation', 'vernon', 'acre', 'practiced', 'com/search', 'wonderful', 'missiles', 'br', 'guides', 'finger', 'garage', 'savage', 'technological', 'rely', 'rises', 'shoes', 'climbing', 'barrel', 'biographies', 'spite', 'assembled', 'ham', 'hon', 'geoffrey', 'valve', 'histories', 'commenting', 'osaka', 'beck', '%a', 'analog', 'monkey', 'tackle', 'listening', 'integrity', 'sits', 'definitions', 'critically', 'operas', 'baldwin', 'troop', 'objections', 'marina', 'detection', 'sixty', 'differential', 'linguistic', 'venus', 'salmon', 'monarchy', 'adminship', 'stade', 'depicts', 'francesco', 'abortion', 'monica', 'elephant', 'polar', 'prompted', 'trademark', 'ton', 'provisional', 'counting', 'tu', 'corn', 'trucks', 'sank', 'airborne', 'lengthy', 'deutsche', 'absorbed', 'par', 'tension', 'pablo', 'aviv', 'cleaning', 'judgement', 'physicist', 'catalina', 'preventing', 'disasters', 'ni', 'lesbian', 'rays', 'withdrawal', 'walks', 'realm', 'trailer', 'janet', 'tornado', 'aunt', 'distribute', 'genesis', 'shallow', 'makers', 'mentioning', 'requesting', 'floors', 'violate', 'scattered', 'boyfriend', 'consolidated', 'determining', 'catholicism', 'luther', 'pleasure', 'seeks', 'constructive', 'webb', 'battalions', 'alberto', 'magical', 'deliberately', 'sacrifice', 'faction', 'olive', 'corridor', 'compatible', 'receptor', 'molecules', 'kiev', 'lb', 'vista', 'castro', 'preceded', 'wei', 'pleasant', 'miscellaneous', 'lineup', 'ultra', 'nowhere', 'bulletin', 'clinic', 'itunes', 'batted', 'patriots', 'pollution', 'treasurer', '…', 'herman', 'questionable', 'sally', 'rex', 'mvp', 'stuck', 'proceeded', 'openly', 'afghan', 'inferior', 'vatican', 'folklore', 'affiliation', 'cruiser', 'princes', 'silk', 'agreements', 'trilogy', 'armour', 'eng', 'stamps', 'harder', 'specimens', 'consumers', 'differently', 'tallest', 'defines', 'cage', 'population_density_blank', 'vicinity', 'ferguson', 'correspondence', 'illustrates', 'tehran', 'cheshire', 'pageant', 'amanda', 'pos', 'org/web/', 'bye', 'employer', 'browns', 'static', 'tibetan', 'nixon', 'sociology', 'recreational', 'capability', 'addressing', 'panthers', 'objection', 'systematic', 'violated', 'nl', 'chocolate', 'helsinki', 'bedford', 'cambodia', 'grandmother', 'rounded', 'fitness', 'halls', 'midlands', 'jung', 'brilliant', 'libya', 'transported', 'angela', 'creature', 'gather', 'volcanic', 'android', 'filmography', 'deposits', 'mentor', 'freeman', 'apartments', 'grid_ref', 'csd', 'uci', 'puppet', 'carey', 'hiding', 'sends', 'meyer', 'strongest', 'gameplay', 'topped', 'lima', 'freeway', 'kirk', 'batteries', 'chains', 'ucla', 'recover', 'wong', 'ear', 'servants', 'combine', 'decent', 'cubs', 'deputies', 'hawk', 'contestant', 'cumberland', 'rational', 'altar', 'ufc', 'organize', 'exhibits', 'subjective', 'determination', 'chennai', 'dong', 'threshold', 'myanmar', 'proud', 'custody', 'surveillance', 'ng', 'threatening', 'allegiance', 'discharge', 'penny', 'ra', 'kannada', 'astronomical', 'rector', 'petroleum', 'bug', 'proceed', 'chapman', 'mud', 'decree', 'regulatory', 'honey', 'diagram', 'infringement', 'broadcaster', 'complexity', 'riley', 'displacement', 'cr', 'sponsor', 'ira', 'condemned', 'careers', 'haiti', 'wisdom', 'pierce', 'stupid', 'alma', 'alexandra', 'continuously', 'shuttle', 'hampton', 'eva', 'mickey', 'atlético', 'gastropod', 'relegation', 'yuan', 'sv', 'lynch', 'johannes', 'ecclesiastical', 'destroying', 'trunk', 'proclaimed', 'genuine', 'adolf', 'sharon', 'acquire', 'guitarists', 'hung', 'corrected', 'theatres', 'gardner', 'artifacts', 'handful', 'mandate', 'locked', 'mohammed', 'dish', 'terrible', 'revived', 'reagan', 'rebecca', 'toledo', 'indefinitely', 'divide', 'recommendations', 'gymnastics', 'alter', 'ideology', 'carriers', 'constantinople', 'fatal', 'modeling', 'monsters', 'notified', 'bulls', 'harassment', 'censorship', 'favorable', 'bore', 'commercially', 'inserted', 'paramount', 'luxury', 'yahoo', 'ecology', 'reviewers', 'emirates', 'neutrality', 'chronicles', 'deployment', 'lepidoptera', 'blast', 'jenkins', 'in%', 'omaha', 'detected', 'attribution', 'harsh', 'cn', 'bundesliga', 'overcome', 'monarchs', 'facilitate', 'hermann', 'morton', 'ya', 'sake', 'conceived', 'roma', 'accredited', 'echo', 'bangkok', 'achieving', 'bergen', 'hawks', 'availability', 'organizing', 'lung', 'andreas', 'cedar', 'stake', 'bankruptcy', 'flagship', 'lankan', 'unassessed', 'basement', 'spirits', 'torture', 'toyota', 'wheat', 'examined', 'membrane', 'knockout', 'coleman', 'homeland', 'maiden', 'dhaka', 'dental', 'christine', 'curious', 'tucker', 'evolutionary', 'responsibilities', 'viscount', 'communists', 'ffffff', 'pavilion', 'fantastic', 'ceremonies', 'augustus', 'loans', 'altogether', 'joey', 'corporations', 'tagging', 'moss', 'parody', 'yield', 'beside', 'sizes', 'armored', 'neighbourhood', 'cheap', 'stuttgart', 'dialects', 'backup', 'forbidden', 'sanskrit', 'neill', 'councillor', 'knife', 'wade', 'humanities', 'premiership', 'gonzález', 'yesterday', 'percy', 'expressway', 'transform', 'vegetation', 'tickets', 'sf', 'dams', 'adopt', 'braves', 'throws', 'plural', 'filmmaker', 'pomeranian', 'habitats', 'sicily', 'justified', 'speeds', 'zip', 'updates', 'replied', 'restriction', 'lin', 'siblings', 'measurements', 'uttar', 'courthouse', 'tide', 'laps', 'dynamo', 'predicted', 'uncredited', 'charitable', 'feast', 'poker', 'promising', 'po', 'kane', 'trevor', 'reprinted', 'attractive', 'sidney', 'factual', 'holidays', 'wondering', 'initiatives', 'comfortable', '_km', 'sw', 'outlets', 'fletcher', 'airways', 'floyd', 'snail', 'genocide', 'saga', 'undertaken', 'scots', 'kingdoms', 'violating', 'weren', 'archdiocese', 'lu', 'fossils', 'military_organization', 'buying', 'commissioners', 'smoking', 'enormous', 'subdivision', 'com\\\\b', 'ta', 'leather', 'def', 'patch', 'unreliable', 'porto', 'valencia', 'subfamily', 'tracy', 'downloaded', 'breakfast', 'subspecies', 'andhra', 'mercy', 'botanical', 'peaks', 'ore', 'pushpin_label_position', 'lone', 'bottle', 'tunisia', 'kw', 'angola', 'humanitarian', 'decorations', 'slide', 'invalid', 'generating', 'trapped', 'rao', 'guru', 'freshwater', 'telescope', 'dense', 'satisfied', 'criticised', 'coral', 'xavier', 'obituary', 'helena', 'rowing', 'albeit', 'anatomy', 'binary', 'merchants', 'controlling', 'wound', 'conviction', 'publishes', 'dixon', 'kuwait', 'known_for', 'ridiculous', 'suffer', 'nsw', 'blacklisted', 'nord', 'caves', 'regent', 'riverside', 'shane', 'balanced', 'fitzgerald', 'highlight', 'payments', 'tendency', 'lópez', 'joyce', 'belle', 'lifted', 'davidson', 'decorative', 'rouge', 'clue', 'rockets', 'cure', 'bolton', 'slope', 'manning', 'boyd', 'organisms', 'paraguay', 'preview', 'dodgers', 'qatar', 'import', 'buddy', 'iucn', 'dock', 'clare', 'penguin', 'rapids', 'exceptional', 'papal', 'shed', 'cologne', 'providers', 'beings', 'norwich', 'challenging', 'anthem', 'supervision', 'investigator', 'ming', 'lease', 'yours', 'cecil', 'toys', 'conrad', 'buck', 'hang', 'show_img', 'bulldogs', 'italia', 'portable', 'dell', 'sd', 'irving', 'bells', 'tibet', 'composite', 'councillors', 'salary', 'blacks', 'enhance', 'staying', 'realizes', 'sysop', 'dropping', 'smallest', 'fragments', 'objectives', 'caesar', 'tragedy', 'macedonian', 'unesco', 'investigated', 'cameroon', 'carson', 'slot', 'rams', 'icelandic', 'sophie', 'granite', 'jenny', 'deciding', 'comparative', 'apostolic', 'venezuelan', 'pirate', 'paralympic', 'slovenian', 'accompanying', 'seasonal', 'american_civil_war', 'delegation', 'combining', 'portfolio', 'machinery', 'miners', 'embedded', 'keen', 'charted', 'gandhi', 'fiscal', 'testimony', 'duchess', 'cu', 'reflection', 'middlesex', 'carr', 'freshman', 'booth', 'rudolf', 'león', 'userpage', 'courage', 'midland', 'riots', 'develops', 'pier', 'isles', 'formatting', 'woodland', 'toss', 'auction', 'cbc', 'specifications', 'acclaim', 'secrets', 'crest', 'sutton', 'decreased', 'ups', 'repairs', 'que', 'bypass', 'prominence', 'slopes', 'phantom', 'hartford', 'alps', 'liner', 'ease', 'cet', 'investments', 'auburn', 'flame', 'exeter', 'din', 'kay', 'rent', 'highlands', 'induced', 'verses', 'crane', 'simulation', 'schemes', 'latitude', 'lance', 'networking', 'keeper', 'wanderers', 'fixing', 'asset', 'prospect', 'knocked', 'merits', 'prejudice', 'highlighted', 'stance', 'gymnasium', 'gloria', 'trent', 'choosing', 'horizon', 'yemen', 'readily', 'riot', 'arose', 'renovation', 'quinn', 'excluded', 'elena', 'successive', 'anger', 'hierarchy', 'ml', 'nm', 'decoration', 'nerve', 'disability', 'giuseppe', 'boot', 'exceed', 'scan', 'rca', '\\\\left', 'pioneers', 'canberra', 'mb', 'coupled', 'newark', 'flowing', 'fungi', 'sensors', 'battlefield', 'shells', 'ashore', 'arguably', 'cottage', 'honduras', 'resides', 'shepherd', 'reservation', 'elderly', 'pbs', 'inline,title', 'mapping', 'mongolia', 'commentator', 'bi', 'nash', 'sharks', 'ricky', 'shirley', 'stopping', 'exercises', 'stepped', 'ribbon', 'infant', 'destroyers', '%b', 'mild', 'vikings', 'peers', 'correspondent', 'renovated', 'proceeds', 'reproduction', 'sings', 'mercedes', 'compliance', 'sided', 'bombay', 'adminname', 'jointly', 'barack', 'premises', 'hawaiian', 'poly', 'handbook', 'rené', 'screenshot', 'imported', 'transactions', 'statute', 'congressman', 'jerome', 'shark', 'choices', 'doom', 'bare', 'raids', 'diagnosis', 'referencing', 'firearms', 'stoke', 'bride', 'prolific', 'selective', 'criminals', 'lindsay', 'advocates', 'automotive', 'wartime', 'worry', 'vacuum', 'heating', 'rushing', 'jp', 'lengths', 'radius', 'johan', 'inactive', 'advances', 'valued', 'celebrities', 'meta', 'estadio', 'rehabilitation', 'synonym', 'asserted', 'corp', 'ambiguous', 'leone', 'sailor', 'racism', 'negro', 'tears', 'inspection', 'ancestors', 'honda', 'barn', 'controller', 'assert', 'abbreviated', 'singular', 'vacant', 'depend', 'ag', 'burden', 'encounters', 'fruits', 'ruby', 'lunch', 'nationalism', 'photographers', 'high»', 'mick', 'classroom', 'btw', 'delegate', 'clyde', 'forums', 'cups', 'challenger', 'recommendation', 'shi', 'instant', 'falcon', 'loses', 'planted', 'nordic', 'hannah', 'coordination', 'hammond', 'dances', 'barracks', 'skilled', 'qualifier', 'saves', 'hardcore', 'precipitation', 'bucharest', 'ranger', 'lily', 'surveys', 'peterson', 'albion', 'wicket', 'destinations', 'calm', 'photographic', 'schmidt', 'subtropical', 'contacts', 'asylum', 'deserves', 'hyderabad', 'visa', 'twelfth', 'contacted', 'matching', 'pregnancy', 'mainspace', 'blatant', 'noteworthy', 'commit', 'stale', 'expectations', 'carmen', 'erie', 'harvest', 'flies', 'kashmir', 'theft', 'relates', 'occupy', 'flames', 'wesley', 'pga', 'umpires', 'beats', 'arlington', 'sterling', 'chances', 'donna', 'petty', 'lets', 'sonic', 'tr', 'transparent', 'dedication', 'clarence', 'katherine', 'nervous', 'facto', 'excluding', 'everywhere', 'sunset', 'anthropology', 'minds', 'reward', 'narrator', 'wingspan', 'antoine', 'ally', 'steep', 'primitive', 'gateway', 'leigh', 'slavic', 'derbyshire', 'lopez', 'chronic', 'donations', 'political_history_of_the_american_civil_war', 'imaging', 'suited', 'europa', 'duet', 'ignoring', 'intel', 'winchester', 'broncos', 'buddha', 'pig', 'whale', 'beaches', 'approaching', 'archipelago', 'confederate_states_of_america', 'attributes', 'minerals', 'justification', 'frozen', 'inherently', 'fischer', 'gains', 'confederate_states_', 'dee', 'comparing', 'accurately', 'participant', 'peaceful', 'typhoon', 'hank', 'manually', 'verlag', 'shortened', 'tram', 'aerospace', 'alignment', 'arabian', 'ivory', 'hastings', 'taxa', 'oz', 'holly', 'traces', 'constellation', 'allocated', 'healing', 'frames', 'rey', 'lorenzo', 'specification', 'risks', 'professors', 'viking', 'userspace', 'atmospheric', 'pottery', 'utc+', 'bloody', 'eden', 'dd', 'mormon', 'nielsen', 'consecrated', '_info_sec', 'peruvian', '_name_sec', 'coloured', 'relevance', 'interference', 'candy', 'bitter', 'flown', 'longtime', 'struggled', 'monetary', 'trends', 'individually', 'funk', 'basque', 'bangalore', 'synagogue', 'latvian', 'elect', 'pot', 'interact', 'crews', 'yi', 'paths', 'var', 'population_total', 'guarantee', 'intact', 'lacrosse', 'raj', 'immigrant', 'aus', 'patriarch', 'themed', 'blessed', 'tailed', 'oversight', 'servers', 'ecological', 'rabbit', 'phi', 'sectors', 'corners', 'powder', 'mega', 'vfl', 'conservatives', 'trivia', 'clips', 'coventry', 'wives', 'plaque', 'institutional', 'inform', 'vic', 'obtaining', 'summers', 'detect', 'precision', 'conservatory', 'sunshine', 'motivated', 'diaspora', 'linguistics', 'gm', 'lc', 'accepting', 'flowering', 'nazis', 'savings', 'underwater', 'deeper', 'mccarthy', 'avoiding', 'toxic', 'georgetown', 'screening', 'unaware', 'phenomena', 'inaugurated', 'rolls', 'liver', 'aided', 'benedict', 'commodore', 'hollow', 'mob', 'dawson', 'emi', 'brett', 'alert', 'seventeen', 'bounded', 'insisted', 'loyalty', 'upload_desc', 'reunion', 'delete}}', 'patterson', 'collision', 'lighter', 'linnaeus', 'zl', 'filling', 'enacted', 'matthews', 'willis', 'secretly', 'vowel', 'whatsoever', 'encouraging', 'finest', 'drainage', 'disciplines', 'shooters', 'lambert', 'seth', 'kai', 'emigrated', 'bermuda', 'wow', 'noun', 'reversed', 'factories', 'valentine', 'plasma', 'virtue', 'heated', 'phillies', 'bryant', 'carnival', 'notices', 'bates', 'partisan', 'amended', 'ballad', 'dairy', 'insight', 'sorts', 'wolves', 'hay', 'kolkata', 'trafficking', 'momentum', 'alternatively', 'peerage', 'labeled', 'ricardo', 'devils', 'solved', 'endurance', 'blame', 'pearson', 'gaza', 'hal', 'teachings', 'convent', 'dealer', 'ct', 'neal', 'frost', 'bout', 'bugs', 'consistency', 'demanding', 'wrecked', 'steady', 'explored', 'fuller', 'shannon', 'watershed', 'specially', 'hansen', 'implied', 'site_cityst', 'mg', 'extant', 'reverend', 'lanes', 'whitney', 'mistaken', 'pupil', 'intend', 'adequately', 'limitations', 'lateral', 'varsity', 'lovers', 'intentions', 'comply', 'securities', 'prohibition', 'acute', 'container', 'emissions', 'upgrade', 'notation', 'omar', 'taipei', 'torres', 'dining', 'survivor', 'corpus', 'advancing', 'shaft', 'nicole', 'turks', 'marker', 'locals', 'observe', 'dishes', 'cove', 'seating', 'dont', 'pour', 'loud', 'hu', 'suspicious', 'expense', 'prosecution', 'noah', 'hyde', 'eternal', 'terrestrial', 'ethical', 'countess', 'tender', 'reflecting', 'yearly', 'wholly', 'pushpin', 'masses', 'modest', 'dudley', 'barrett', 'explosive', 'fathers', 'pas', 'revealing', 'juvenile', 'similarities', 'conquered', 'relate', 'colts', 'violates', 'surrendered', '%d', 'denomination', 'feminine', 'contentious', 'softball', 'compression', 'micro', 'sovereignty', 'reef', 'brady', 'walked', 'scenic', 'eleventh', 'shadows', 'breach', 'behavioral', 'monasteries', 'rope', 'owing', 'spare', 'cache', 'wimbledon', 'practitioners', 'duplicate', 'wards', 'notorious', 'parkway', 'ronnie', 'odds', 'andre', '½', 'mos', 'maternal', 'transmitter', 'steal', 'identifies', 'tertiary', 'pension', 'hc', 'scenario', 'constantine', 'specimen', 'mare', 'dolphins', 'derives', 'gloucestershire', 'term_start', 'metals', 'teaches', 'incorporate', 'oceania', 'galway', 'mighty', 'lightweight', 'processor', 'prints', 'somalia', 'unblock', 'og', 'switching', 'possessed', 'coach_team', 'hr', 'phillip', 'bilateral', 'descended', 'gloucester', 'pyramid', 'eps', 'emeritus', 'nina', 'val', 'wolfgang', 'gill', 'cooling', 'hiv', 'electorate', 'sexuality', 'dash', 'doctoral', 'rita', 'outright', 'constituted', 's/', 'nam', 'timing', 'peters', 'tribunal', 'stalin', 'stadion', 'organizational', 'memoirs', 'pitchers', 'presumed', 'mayer', 'beaver', 'ja', 'sm', 'gonna', 'gustav', 'motorsport', 'facade', 'spike', 'titans', 'possess', 'apps', 'talkpage', 'cal', 'carlton', 'klein', 'hassan', 'dundee', 'translate', 'flesh', 'medalist', 'clayton', 'pistol', 'mikhail', 'expired', 'unnamed', 'clube', 'watchlist', 'valleys', 'benson', 'profits', 'acids', 'travis', 'distances', 'enclosed', 'asteroid', 'cow', 'accommodation', 'catalan', 'warwick', 'textile', 'brewery', 'sanders', 'clarification', 'deadly', 'qualities', 'marching', 'assess', 'gotten', 'witnessed', 'marx', 'chassis', 'intensive', 'usd', 'phones', 'marcel', 'weber', 'diane', 'detachment', 'operative', 'gazette', 'thoroughly', 'specify', 'fritz', 'marketed', 'cloth', '#ffffff', 'doyle', 'statues', 'nigel', 'qing', 'sheikh', 'cafe', 'sandbox', 'breeds', 'orphan', 'monaco', 'folks', 'meaningful', 'invaded', 'norm', 'sen', 'n/a', 'berkshire', 'illustrator', 'sl', 'celebrations', 'beverly', 'macmillan', 'strain', 'motorway', 'contracted', 'constitutes', 'williamson', 'pronunciation', 'disco', 'presently', 'talented', 'deletions', 'forestry', 'rodríguez', 'exam', 'coined', 'struggling', 'advantages', 'mood', 'wheeler', 'karachi', 'blackburn', 'unsuccessfully', 'educators', 'beth', 'subpages', 'swimmer', 'tunnels', 'wagon', 'masculine', 'offshore', 'darren', 'gerard', 'consul', 'excuse', 'unreleased', 'investigating', 'mohamed', 'salon', 'checks', 'trigger', 'reinforced', 'enabling', 'shoots', 'pipes', 'atoms', 'invisible', 'ibrahim', 'memoir', 'intro', 'inception', 'implications', 'coronation', 'tobago', 'werner', 'gifts', 'livestock', 'companions', 'differs', 'confirmation', 'volcano', 'jupiter', 'prophet', 'taxi', 'disagreement', 'dresden', 'originating', 'refuse', 'cyclist', 'deserve', 'detention', 'persistent', 'statistics}}', 'scripts', 'diagnosed', 'iris', 'dad', 'abbot', 'elvis', 'dorset', 'mel', 'laboratories', 'localities', 'responding', 'lorraine', 'fabric', 'seas', 'shin', 'starter', 'clip', 'villain', 'chemicals', 'replaceable', 'multiplayer', 'nr', 'astronomer', 'immune', 'comprised', 'bologna', 'flexible', 'modifications', 'samoa', 'tai', 'gamma', 'reformation', 'convincing', 'cherokee', 'posthumously', 'homeless', 'triumph', 'prefix', '\\\\right', 'carriage', 'obsolete', 'communism', 't/', 'unreferenced', 'consortium', 'stark', 'locate', 'greeks', 'c%', 'inclined', 'effectiveness', 'advocated', 'surgical', 'souls', 'retire', 'cs', 'renewable', 'safely', 'cameo', 'dissolution', 'unemployment', 'racist', 'torn', 'baghdad', 'malay', 'dana', 'clarinet', 'sodium', 'moldova', 'backs', 'crow', 'interrupted', 'columnist', 'quantities', 'debutteam', 'arise', 'pseudonym', 'eclipse', 'organs', 'philharmonic', 'christie', 'incorporating', 'château', 'christina', 'countryside', 'conception', 'angelo', 'dir', 'lincolnshire', 'wished', 'regina', 'rectangular', 'transfers', 'yacht', 'picking', 'secondly', 'algorithms', 'nassau', 'constituent', 'sánchez', 'falcons', 'termed', 'bart', 'genius', 'defeats', 'informational', 'punch', 'specialty', 'clash', 'continuation', 'charities', 'abdullah', 'remedy', 'judged', 'josef', 'loosely', 'uninvolved', 'comfort', 'branded', 'broadly', 'teamb', 'cadet', 'helicopters', 'nave', 'shooter', 'lotus', 'enlarged', 'dwarf', 'logged', 'affecting', 'packers', 'antwerp', 'glad', 'fold', 'knox', 'billed', 'terrace', 'flanders', 'tri', 'socialism', 'sandstone', 'renault', 'fleming', 'judy', 'infected', 'informative', 'happiness', 'warehouse', 'miracle', 'leisure', 'kindergarten', 'leopold', 'barker', 'synthetic', 'waterloo', 'sage', 'adviser', 'accepts', 'trim', 'basilica', 'sitcom', 'cartoons', 'irregular', 'atom', 'normandy', 'financing', '##', 'admits', 'embarked', 'passive', 'modification', 'shiva', 'tudor', 'breakdown', 'alfonso', 'badminton', 'fiber', 'fiba', 'mice', 'carlisle', 'unveiled', 'subdivisions', 'tired', 'mu', 'wage', 'fingers', 'cest', 'loving', 'worried', 'gambling', 'basel', 'randolph', '&q', 'allison', 'mothers', 'capitals', 'auditorium', 'vault', 'haute', 'persuaded', 'descendant', 'poison', 'gujarat', 'royals', 'yan', 'damages', 'eleanor', 'parsons', 'invested', 'calvin', 'dover', 'mafia', 'resembles', 'offs', 'anon', 'deny', 'shapes', 'madras', 'wears', 'professionally', 'essence', 'emotions', 'myers', 'saturn', 'transmitted', 'paperback', 'freed', 'domains', 'hanover', 'mets', 'pike', 'sketches', 'cellular', 'augusta', 'sinclair', 'examine', 'unexpected', 'sponsorship', '_sq_mi', 'site_stadium', 'ae', 'dab', 'bmw', 'uncommon', 'aria', 'realistic', 'barton', 'miranda', 'dodge', 'stint', 'oc', 'sunderland', 'plug', 'orbital', 'spreading', 'puzzle', 'symbolic', 'diamonds', 'jesuit', 'viable', 'flee', 'lined', 'roses', 'competitor', 'munster', 'midway', 'germanic', 'urdu', 'rides', 'scratch', 'lahore', 'pipeline', 'protective', 'levy', 'rodriguez', 'seymour', 'affects', 'pac', 'jules', 'archer', 'kicked', 'promises', 'remake', 'forts', 'accusation', 'reopened', 'phases', 'rendering', 'progression', 'complained', 'liberals', 'indefinite', 'lacked', 'clement', 'batsman', 'mackenzie', 'judith', 'chartered', 'salisbury', 'discoveries', 'pursuing', 'primera', 'polls', 'reactor', 'cope', 'beds', 'howe', 'calcutta', 'stems', 'dubious', 'desperate', 'lafayette', 'uniforms', 'outcomes', 'tips', 'partition', 'ministries', 'conclusions', 'destiny', 'sigma', 'reporters', 'daytime', 'aurora', 'goodbye', 'relisted', 'webpage', 'coordinate', 'steering', 'pepper', 'drunk', 'folded', 'seals', 'scouting', 'swim', 'cunningham', 'lexington', 'persecution', 'expenses', 'theaters', 'controversies', 'agnes', 'higgins', 'projected', 'functioning', 'query', 'seine', 'byron', 'nowadays', 'accomplishments', 'pérez', 'averaged', 'fool', 'downs', 'brave', 'mozart', 'gil', 'dirt', 'mathematicians', 'aquatic', 'noel', 'inventory', 'ethiopian', 'evaluate', 'meanings', 'indef', 'reluctant', 'rgb', 'imagination', 'barber', 'slogan', 'reich', 'hurricanes', 'desktop', 'demonstrates', 'łódź', 'amusement', 'hunters', 'drops', 'letting', 'sept', 'demolition', 'pi', 'hague', 'bronx', 'dukes', 'natives', 'ancestor', 'preparatory', 'fence', 'retaining', 'rna', 'strikeouts', 'turin', 'crush', 'algerian', 'accusing', 'exploring', 'reunited', 'wii', 'narrowly', 'cone', 'nz', 'württemberg', 'urged', 'taiwanese', 'capturing', 'continuity', 'enforce', 'clouds', 'verification', 'owl', 'struggles', 'namibia', 'pratt', 'tate', 'romeo', 'reduces', 'regulated', 'lonely', 'deaf', 'shire', 'structured', 'newsletter', 'ink', 'dwight', 'swept', 'menu', 'steelers', 'pointless', 'declare', 'paolo', 'supernatural', 'privileges', 'pleased', 'commercials', 'faithful', 'knock', 'launching', 'jubilee', 'finishes', 'lamb', 'resemble', 'hesse', 'storms', 'simpsons', 'storey', 'flemish', 'logistics', 'consort', 'satellites', 'kb', 'dub', 'elisabeth', 'apache', 'antenna', 'ashes', '&oe', 'fin', 'advise', 'trump', 'kidnapped', 'enables', 'wounds', 'alternatives', 'turtle', 'greenwich', 'cake', 'tributaries', 'heather', 'neologism', 'hobart', 'pulse', 'camden', 'meyrick', 'eaten', 'irrigation', 'kyoto', 'labrador', 'vera', 'honestly', 'ninja', 'midfielders', 'transcription', 'validity', 'employers', 'winger', 'redesignated', 'pays', 'curse', 'scoreb', 'breakthrough', 'cycles', 'node', 'europeans', 'expressing', 'recreated', 'thirds', 'privy', 'habit', 'viewer', 'russians', 'shields', 'analyst', 'exposition', 'interval', 'decommissioned', 'bucurești', 'igor', 'oath', 'filing', 'generator', 'welcomed', 'pg', 'bahrain', 'pressed', 'stays', 'twist', 'griffith', 'aston', 'bordered', 'nicaragua', 'bacon', 'bury', 'frankly', 'smithsonian', 'premium', 'ned', 'mayo', 'walton', 'stevenson', 'colleague', 'curves', 'fraternity', 'xii', 'encoded', 'jacobs', 'hire', 'isolation', 'raven', 'dig', 'his/her', 'introduces', 'verbal', 'appropriately', 'noticeboard', 'patents', 'usc', 'holt', 'wiktionary', 'tx', 'utilized', 'searched', 'clifford', 'sonata', 'cb', 'hemisphere', 'solving', 'slang', 'thrust', 'trout', 'aesthetic', 'predators', 'panic', 'tulsa', 'aaa', 'teresa', 'warming', 'advancement', 'hunger', 'ears', 'tract', 'laurent', 'vandals', 'resign', 'burnt', 'splitting', 'courtesy', 'rodney', 'encyclopaedia', 'treating', 'subscription', 'perspectives', 'augustine', 'eighteenth', 'midwest', 'pasha', 'amber', 'dayton', 'universidad', 'revelation', 'designing', 'overtime', 'rows', 'functionality', 'ave', 'pts', 'mastering', 'deity', 'shocked', 'autonomy', 'kuala', 'conway', 'frequencies', 'magnus', 'protesters', 'inflation', 'academia', 'rc', 'hancock', 'unacceptable', 'passport', 'interpretations', 'creators', 'appealed', 'baba', 'viral', 'clearing', 'woody', 'ventures', 'tab', 'marginal', 'meantime', 'inscriptions', 'shame', 'genetics', 'motivation', 'yoga', 'rotterdam', 'marvin', 'teenager', 'northumberland', 'vocational', 'afterward', 'laurel', 'overhead', 'balloon', 'sponsors', 'firstly', 'wha', 'greenland', 'demographic', 'rahman', 'attained', 'ivy', 'eg', 'screw', 'talked', 'wigan', 'accreditation', 'vicar', 'surprising', 'sandra', 'overwhelming', 'rats', 'mali', 'baku', 'stranger', 'installations', 'payne', 'tf_', 'mod', 'projection', 'ferrari', 'collectors', 'sands', 'subtle', 'α', 'strips', 'shoe', 'basket', 'moroccan', 'fisheries', 'gfdl', 'tally', 'hadn', 'voter', 'resolutions', 'silicon', 'rage', 'brent', 'aliens', 'cao', 'imagery', '\\\\mathbf', 'nucleus', 'ceremonial', 'practically', 'serviceyears', 'simmons', 'circuits', 'strand', 'definitive', 'promotes', 'tooth', 'uranium', 'complications', 'sega', 'clusters', 'zambia', 'employ', 'ky', 'isabella', 'abandon', 'marriages', 'tunes', '_label', 'probable', 'amino', 'accent', 'incorporates', 'garnered', 'playwrights', 'robots', 'slate', 'weston', 'parachute', 'escapes', 'lauren', 'skiers', 'belarusian', 'clearance', 'snails', 'martínez', 'mercer', 'crimson', 'incorrectly', 'meal', 'islander', 'pharmaceutical', 'dominion', 'chemist', 'medley', 'proves', 'porn', 'mirrors', 'remnants', 'expressions', 'vegetables', 'teammate', 'leningrad', 'psychiatric', 'laos', 'traced', 'wiltshire', 'tense', 'ant', 'hectares', 'fears', 'curling', 'fits', 'af', 'inning', 'rotten', 'fernández', 'fury', 'underneath', 'bihar', 'kraków', 'confident', 'pioneering', 'suzuki', 'mobility', 'fascist', 'marquis', 'registry', 'numerical', 'catches', 'olivier', 'halt', 'chronology', 'polytechnic', 'randall', 'aligned', 'dunn', 'scrapped', 'alike', 'leased', 'chandler', 'sophisticated', 'spur', 'acknowledge', 'laurence', 'textbook', 'arabs', 'bother', 'xx', 'rewritten', 'sealed', 'verde', 'landscapes', 'curved', 'reilly', 'spatial', 'commissions', 'databases', 'approximate', 'inheritance', 'counterpart', 'prodcode', 'cease', 'ugly', 'fraction', 'traits', 'rivera', 'transaction', 'decay', 'lineage', 'substances', 'sued', 'guam', 'ensuring', 'syndicated', 'fencing', 'zhou', 'term_end', 'finalists', 'mir', 'electrons', '§', 'avant', 'turbine', 'install', 'majesty', 'zürich', 'outlet', 'eduardo', 'vince', 'mint', 'brotherhood', 'iconic', 'katie', 'bizarre', 'ign', 'gr', 'swansea', 'announces', 'wheelchair', 'refusing', 'slip', 'shri', 'gore', 'herb', 'rep', 'stripped', 'crescent', 'possibilities', 'syntax', 'genome', 'hale', 'railroads', 'sonny', 'favored', 'jonas', 'hawkins', 'similarity', 'comment/discuss', 'sheets', 'debutdate', 'suspicion', 'molecule', 'winters', 'launches', 'tonnes', 'nautical', 'preferences', 'cds', 'casa', 'tricks', 'burlington', 'partnerships', 'confined', 'terminated', 'salvation', 'adjusted', 'bb', 'guaranteed', 'swamp', 'uc', 'wwii', 'overly', 'hanna', 'dove', 'jennings', 'beneficial', 'annexed', 'sutherland', 'gym', 'patriotic', 'mollusk', 'suspects', 'squares', 'ads', 'collectively', 'staffordshire', 'eet', 'revenues', 'müller', 'bremen', 'licenses', 'seventy', 'cultivation', 'credible', 'ingredients', 'benny', 'stafford', 'stephens', 'shipped', 'xiii', 'dramatically', 'racer', 'translators', 'beef', 'password', 'modules', 'comeback', 'precious', 'dei', 'computational', 'apologize', 'moist', 'aging', 'garrett', 'dinosaur', 'emblem', 'plague', 'broadcasters', 'wan', 'christchurch', 'pie', 'spiral', 'user_talk', 'marcos', 'tensions', 'admiralty', 'orchestral', 'screened', 'ev', 'cement', 'refugee', 'continually', 'chaired', 'madame', 'viewpoint', 'miniseries', 'luigi', 'ieee', 'donation', 'numbering', 'café', 'hare', 'correction', 'jensen', 'crusade', 'talbot', 'developmental', 'brooke', 'extensions', 'cube', 'masovian', 'migrated', 'goa', 'vacation', 'maggie', 'boots', 'submerged', 'ambulance', 'disabilities', 'sanctioned', 'ligue', 'tyne', 'byrne', 'importantly', 'luna', 'flint', 'skeleton', 'burmese', 'kurdish', 'lawn', 'école', 'weaver', 'mai', 'einstein', 'forgot', 'gould', 'crosby', 'livingston', 'titular', 'wreck', 'niagara', 'demons', 'treatments', 'sinking', 'capt', 'vintage', 'perkins', 'gdp', 'pius', 'stereo', 'troubles', 'tina', 'resume', 'unlimited', 'footnote', 'molly', 'robbie', 'attitudes', 'thoroughbred', 'decisive', 'mans', 'boost', 'norse', 'neighbors', 'restoring', 'portrayal', 'ti', 'afford', 'rim', 'procedural', 'assam', 'abundant', 'wendy', 'gran', 'feud', 'jockey', 'breathing', 'alison', 'niger', 'prone', 'whereby', 'emmanuel', 'birthplace', 'doll', 'oaks', 'umbrella', 'elliot', 'bahá', 'statewide', 'edith', 'campuses', 'showcase', 'talk/', 'rotating', 'angles', 'tolerance', 'survives', 'insignia', 'berg', 'combines', 'resistant', 'paula', 'affiliates', 'memorable', 'traders', 'sink', 'concentrate', 'prop', 'fp', 'um', 'hiking', 'mansfield', 'refusal', 'rama', 'paved', 'afb', 'airplane', 'demonstrating', 'violet', 'northampton', 'blamed', 'wordpress', 'globally', 'constable', 'abbreviation', 'demographics_type', 'ku', 'loneos', 'gentleman', 'cosmic', 'shawn', 'piper', 'banker', 'villagers', 'definite', 'bullets', 'holden', 'lionel', 'demonstrations', 'nm_', 'daniels', 'drinks', 'prosecutor', 'photographed', 'inaccurate', 'blown', 'bollywood', 'irene', 'chamberlain', 'dive', 'sworn', 'anita', 'apartheid', 'ada', 'simplified', 'reject', 'abbott', 'stephanie', 'longitude', 'established_title', 'mack', 'lucia', 'smile', 'classrooms', 'feared', 'injection', 'calcium', 'redskins', 'jill', 'nurses', 'sophia', 'swords', 'pokémon', 'prominently', 'multimedia', 'buchanan', 'declaring', 'proving', 'judging', 'sanction', 'māori', 'employs', 'sant', 'horace', 'darker', 'emerson', 'mandarin', 'garde', 'ipswich', 'borrowed', 'bred', 'vaughan', 'criticisms', 'ambitious', 'philanthropist', 'discourse', 'rajasthan', 'collar', 'honolulu', 'inherent', 'jamaican', 'fcc', 'advent', 'priory', 'inability', 'contribs', 'brigades', 'sunny', 'talents', 'jakarta', 'natalie', 'chin', 'lester', 'macau', 'barbados', 'activism', 'consumed', 'spectators', 'wages', 'undertook', 'silesian', 'inmates', 'homosexuality', 'teamed', 'recruit', 'sensor', 'cp', 'floods', 'thereof', 'weakened', 'twilight', 'lowe', 'nitrogen', 'assassinated', 'harmful', 'denotes', 'sergei', 'kirby', 'displaced', 'occurrence', 'firefox', 'strengthen', 'américa', 'leonardo', 'settling', 'categorized', 'irc', 'np_', 'brittany', 'lds', 'rite', 'proportional', 'speeches', 'una', 'contributes', 'digit', 'lobby', 'supervisor', 'minorities', 'spectacular', 'skaters', 'bays', 'rollbacker', 'bean', 'bg', 'blades', 'he/she', 'nyc', 'pitt', 'printer', 'genoa', 'brandenburg', 'residences', 'thumb', 'wikipedian', 'mediawiki', 'lublin', 'isabel', 'civility', 'sol', 'luftwaffe', 'seated', 'overnight', 'marty', 'segunda', 'kerr', 'butterflies', 'televised', 'hostage', 'lennon', 'fowler', 'labs', 'eest', 'instructed', 'casual', 'rude', 'cubic', 'commentators', 'soup', 'loch', 'battleship', 'dissertation', 'denominations', 'python', 'extract', 'peasants', 'throat', 'celebrating', 'finn', 'mound', 'mozambique', 'fortified', 'inadequate', 'uzbekistan', 'stained', 'punjabi', 'caste', 'prisons', 'stirling', 'limiting', 'senegal', 'beirut', 'touched', 'repeating', 'sexually', 'wildcats', 'deposit', 'olivia', 'colombo', 'observers', 'hubert', 'basil', 'ou', 'batch', 'nh', 'greenwood', 'breath', 'baton', 'spokesman', 'caution', 'meadows', 'turnout', 'aluminum', 'revisions', 'stein', 'jokes', 'italics', 'bark', 'azerbaijani', 'diabetes', 'flickr', 'framed', 'lesson', 'tenants', 'captains', 'factions', 'conscious', 'alley', 'schneider', 'bert', 'subset', 'bowie', 'geo', 'meditation', 'smalltext', 'rue', 'undergo', 'promotions', 'diplomats', 'critique', 'browne', 'succeeding', 'purchasing', 'pastoral', 'liz', 'horns', 'emergence', 'canceled', 'marched', 'damaging', 'trustee', 'resorts', 'taxation', 'miniature', 'conclude', 'dartmouth', 'clarity', 'incredible', 'resided', 'forewings', 'chevrolet', 'qualifications', 'poetic', 'void', 'bosnian', 'cab', 'hereditary', 'passages', 'mater', 'principality', 'yearsactive', 'increment', 'contests', 'omitted', 'gentlemen', 'nj', 'underway', 'tumor', 'torah', 'catalonia', 'cricinfo', 'memorials', 'warn', 'geoff', 'jimbo', 'locks', 'bees', 'vanderbilt', 'commemorate', 'equilibrium', 'dorsal', 'realism', 'adaptations', 'johannesburg', 'bent', 'common}}', 'nonprofit', 'intentionally', 'becker', 'largetext', 'bs', 'eponymous', 'assumes', 'advertisements', 'humorous', 'shores', 'hoffman', 'enforced', 'chung', 'juniors', 'oman', 'renewal', 'flank', 'okinawa', 'outlined', 'helmet', 'straw', 'grouped', 'downstream', 'tens', 'anticipated', 'incivility', 'steele', 'goodman', 'nutrition', 'havana', 'messenger', 'wi', 'catches/stumpings', 'robbery', 'cultivated', 'unusually', 'ducks', 'castile', 'screens', 'accessdate', 'peaking', 'associated_acts', 'bowler', 'huang', 'proposing', 'packaging', 'int', 'nu', 'apology', 'trauma', 'tt', 'reyes', 'subjected', 'capped', 'draught', 'whites', 'vols', 'laying', 'extinction', 'troll', 'divisional', 'pulling', 'attribute', 'proto', 'proxy', 'coding', 'canoe', 'gasoline', 'podcast', 'commuter', 'bloc', 'encompasses', 'cpu', 'borderline', 'displaying', 'geometric', 'chaplain', 'tended', 'chord', 'barrow', 'angus', 'leinster', 'costumes', 'domingo', 'cowboy', 'jew', 'ge', 'preparations', 'qualifies', 'sculptors', 'koch', 'h,', 'sts', 'bedroom', 'prevents', 'minded', 'declining', 'choral', 'interpret', 'grape', 'expeditions', 'airs', 'limerick', 'khorasan', 'haunted', 'offspring', 'xp', 'marxist', 'aluminium', 'permits', 'tomatoes', 'savannah', 'tapes', 'quarry', 'australians', 'disappointed', 'cola', 'crafts', 'irvine', 'curator', 'rbi', 'davenport', 'receivers', 'accidental', 'marseille', 'opted', 'gibbs', 'rand', 'insect', 'sergio', 'combinations', 'appreciation', 'enzymes', 'awkward', 'spanning', 'pressing', 'dioxide', 'geograph', 'com/index', 'theologian', 'progressed', 'receptors', 'encourages', 'corrupt', 'donovan', 'ht', 'hogan', 'sg', 'nominees', 'logging', 'ole', 'evacuated', 'doubled', 'conversations', 'questioning', 'gavin', 'targeting', 'implementing', 'ceylon', 'depiction', 'converts', 'symmetry', 'excavations', 'reuters', 'hercules', 'martín', 'coordinates_type', 'devi', 'sheridan', 'unfair', 'finalteam', 'pile', 'muscles', 'reptiles', 'repertoire', 'sorted', 'samurai', 'cassette', 'stripes', 'ak', 'juice', 'proprietary', 'fierce', 'necessity', 'stealing', '%e', 'hilton', 'blu', 'giles', 'compelling', 'stomach', 'rushed', 'abusive', 'buttons', 'gram', 'hinduism', 'fortifications', 'reggae', 'homosexual', 'apprentice', 'partnered', 'hussein', 'sells', 'disposal', 'pharmacy', 'synthesizer', 'liability', 'cam', 'dinamo', 'sci', 'contexts', 'cannes', 'willow', 'hbo', 'starr', 'statutory', 'winged', 'concurrency', 'recruiting', 'periodic', 'shtml', 'subpage', 'slower', 'pagan', 'matched', 'defendant', 'specializing', 'crashes', 'pizza', 'evan', 'rwanda', 'mls', 'avengers', 'thornton', 'ghosts', 'exploitation', 'xml', 'ul', 'colt', 'ensuing', '/////', 'pulitzer', 'supervised', 'flooded', 'repaired', 'integer', 'instantly', 'mistress', 'securing', 'ethnicities', 'mortar', 'plausible', 'cop', 'activation', 'lyric', 'cypriot', 'assumptions', 'methodology', 'ios', 'gale', 'dominic', 'nominal', 'bud', 'melissa', 'skip', 'hapoel', 'invite', 'rt', 'reside', 'martinez', 'affiliations', 'medina', 'debris', 'successes', 'frustrated', 'engineered', 'arranger', '»', 'infinity', 'corresponds', 'cretaceous', 'bite', 'nodes', 'bavarian', 'marilyn', 'rumors', 'neighbor', 'suffix', 'fare', 'ordering', 'lifelong', 'campeonato', 'fuselage', 'wanna', 'capitalism', 'harlem', 'warwickshire', 'delivering', 'pigs', 'centennial', 'statleague', 'rituals', 'justices', 'joão', 'bolt', 'wakefield', 'infamous', 'automobiles', 'damascus', 'listeners', 'simpler', 'orioles', 'xv', 'dried', 'ke', 'hai', 'assignments', 'porch', 'hymn', '⋅', 'indirect', 'verifiability', 'uruguayan', 'vhs', 'sioux', 'sockpuppetry', 'convenience', 'statesman', 'detached', 'practicing', 'chu', 'abs', 'hiatus', 'banning', 'sul', 'paired', 'relied', 'watt', 'kite', 'offence', 'sylvia', 'frigate', 'debutleague', 'convey', 'dramas', 'shade', 'trades', 'marian', 'coastline', 'clive', 'lamp', 'camping', 'chips', 'earthquakes', 'assisting', 'indicator', 'bloom', 'emil', 'prayers', 'attorneys', 'napoleonic', 'mortality', 'bruins', 'processed', 'pathway', 'treatise', 'malik', 'res', 'cliffs', 'caliber', 'bordeaux', 'concludes', 'lowell', 'atop', 'relies', 'marino', 'scorecard', 'recognizes', 'heavier', 'prevalent', 'ruined', 'kidney', 'emphasized', 'uncertainty', 'documentaries', 'teddy', 'omega', 'cheng', 'denial', 'sunni', 'granting', 'outreach', 'ordnance', 'neville', 'brush', 'rolled', 'alain', 'mama', 'evaluated', 'ein', 'styled', 'turbo', 'pietro', 'demise', 'hydraulic', 'eminent', 'apologies', 'baxter', 'addiction', 'anders', 'coach_years', 'gubernatorial', 'emerge', 'zu', 'solidarity', 'posed', 'maid', 'confluence', 'physiology', 'algebraic', 'brake', 'loire', 'jacket', 'spinning', 'brendan', 'pattern_b', 'scarlet', 'explorers', 'impacts', 'dante', 'gerry', 'regained', 'granada', 'cemeteries', 'royalty', 'ins', 'confronted', 'boulder', 'announcer', 'inconsistent', 'amphibious', 'spears', 'mariners', 'mutant', 'oracle', 'slim', 'erosion', 'borneo', 'positioned', 'coordinated', 'explanations', 'transformers', 'evelyn', 'profiles', 'beethoven', 'digits', 'usgs', 'raises', 'parole', 'constraints', 'notification', 'vein', 'frankie', 'economists', 'terra', 'bahamas', 'spark', 'kappa', 'potato', 'interred', 'impose', 'acc', 'kathleen', 'unconscious', 'filmmakers', 'population_as_of', 'cl', 'endless', 'absurd', 'apex', 'evacuation', 'lil', 'mortgage', 'considerations', 'zur', 'suits', 'lagos', 'hm', 'realizing', 'quotation', 'representations', 'pilgrimage', 'truman', 'ashton', 'yields', 'taliban', 'concise', 'remarked', 'olga', 'prostitution', 'flyers', 'prestige', 'contractor', 'xiv', 'expeditionary', 'bubble', 'mauritius', 'deliberate', 'incoming', 'panzer', 'antiquity', 'datestamp', 'convenient', 'wines', 'directorate', 'approve', 'gifted', 'wilmington', 'tempo', 'dexter', 'skipped', 'upstream', 'islanders', 'bp', 'perennial', 'kerman', 'rai', 'fulfill', 'api', 'hatch', 'unionist', 'unfortunate', 'immunity', 'snakes', 'nile', 'rm', 'duel', 'assessments', 'bern', 'daisy', 'authentic', 'attachment', 'xvi', 'lawson', 'laureate', 'rupert', 'mccartney', 'relativity', 'nikolai', 'cord', 'exclude', 'fencers', 'shipyard', 'entirety', 'emotion', 'cobra', 'sensitivity', 'intimate', 'soils', 'blank_name', 'plots', 'holstein', 'investor', 'huntington', 'neighbours', 'retains', 'barons', 'enrique', 'roth', 'psychologist', 'kaiser', 'darling', 'judiciary', 'vicente', 'streaming', 'jeanne', 'replies', 'converting', 'klaus', 'anarchist', 'oxide', 'removes', 'overlooking', 'occupies', 'stella', 'dose', 'zombie', 'canadians', 'dwelling', 'backwards', 'liberia', 'blackpool', 'modeled', 'offline', 'userbox', 'norris', 'serbs', 'harp', 'rental', 'relieved', 'botanist', 'guilt', 'fried', 'alexandre', 'concentrations', 'markings', 'verdict', 'cyril', 'mnm', 'hertfordshire', 'discovering', 'β', 'aces', 'shropshire', 'spiders', 'nominations/', 'compulsory', 'woo', 'bonnie', 'crack', 'incarnation', 'oldham', 'liam', 'positively', 'mgm', 'everett', 'quincy', 'firmly', 'rode', 'utrecht', 'volcanoes', 'britannica', 'amendments', 'proposition', 'threads', 'triggered', 'humphrey', 'bust', 'fitting', 'discrete', 'peterborough', 'zurich', 'deliveries', 'lumpur', 'wolfe', 'unfinished', 'drill', 'exotic', 'teenagers', 'sauce', 'probation', 'loaned', 'net/', 'archie', 'javier', 'exports', 'cartridge', 'clifton', 'nagar', 'deluxe', 'commando', 'deportivo', 'feeds', 'optimal', 'rhythmic', 'kernel', 'springer', 'austro', 'dramatists', 'bans', 'tragic', 'credibility', 'resurrection', 'conditional', 'ind', 'gaa', 'usb', 'belize', 'know/', 'researched', 'prosperity', 'standardized', 'comet', 'pools', 'troubled', 'negotiated', 'tasked', 'markers', 'kenyan', 'archibald', 'lava', 'victorious', 'promo', 'creativity', 'protocols', 'beloved', 'asserts', 'esther', 'objected', 'peel', 'heidelberg', 'wikiprojects', 'chooses', 'groove', 'lantern', 'savoy', 'saunders', 'facial', '_dst', 'confrontation', 'ladder', 'bohemia', 'thief', 'guyana', 'vanessa', 'halloween', 'sentiment', 'appointments', 'levi', 'rodgers', 'homestead', 'realised', 'plc', 'sainte', 'pune', 'sarajevo', 'nominations}}}}}}', 'announcing', 'dinosaurs', 'dominance', 'precursor', 'laugh', 'financed', 'lars', 'viktor', 'scrutiny', 'sandwich', 'apparatus', 'utterly', 'pornography', 'toulouse', 'tap', 'incredibly', 'alarm', 'cruisers', 'preserving', '//rkd', 'rover', 'granddaughter', 'exams', 'halfway', 'acceleration', 'raced', 'shelley', 'adverse', 'competes', 'intervals', 'nichols', 'induction', 'privilege', 'trombone', 'aforementioned', 'airplay', 'edison', 'eyed', 'magnet', 'martyrs', 'suffers', 'captive', 'codex', 'wool', 'forensic', 'exciting', 'majors', 'surprisingly', 'vowels', 'seller', 'platoon', 'dia', 'fog', 'honorable', 'cornish', 'bt', 'triangular', 'yuri', 'hiroshima', 'selections', 'wash', 'freddie', 'nationale', 'undrafted', 'signatures', 'treason', 'babies', 'persia', 'wilkinson', 'whoever', 'sacked', 'glaciers', 'sustainability', 'leaning', 'recognise', 'lumber', 'receptions', 'ballads', 'pillars', 'turret', 'residency', 'reginald', 'doubts', 'zhu', 'une', 'owens', 'lately', 'veterinary', 'guggenheim', 'reputable', 'hector', 'lounge', 'undergoing', 'presenters', 'sacks', 'tara', 'jumped', 'curry', 'goat', 'nightmare', 'burst', 'yokohama', 'scorea', 'behaviors', 'secretariat', 'spans', 'illusion', 'wta', 'icons', 'electro', 'teens', 'romanesque', 'shake', 'elias', 'resist', 'planetary', 'pseudo', 'alba', 'biodiversity', 'shifting', 'bluff', 'anxiety', 'zhao', 'rogue', 'dolls', 'pitching', 'barney', 'sikh', 'suffrage', 'feathers', 'richie', 'marathi', 'habits', 'blend', 'extraction', 'courtyard', 'turf', 'desirable', 'expo', 'bhutan', 'guerrilla', 'esp', 'deadline', 'ea', 'bon', 'exchanges', 'whip', 'farewell', 'cardiac', 'sensible', 'deities', 'replica', 'smiles', '—the', 'sympathetic', 'reproductive', 'cousins', 'terrorists', 'acquiring', 'heinz', 'songwriting', 'financially', 'lizard', 'zen', 'remixes', 'exiled', 'negotiate', 'axe', 'flour', 'jade', 'insane', 'pose', 'fry', 'ida', 'goose', 'scientology', 'chiang', 'dom', 'pact', 'garbage', 'regency', 'fulton', 'reorganized', 'sixteenth', 'riga', 'mom', 'xu', 'accompany', 'nw', 'hasan', 'mosaic', 'icc', 'ark', 'subcategories', 'joachim', 'bahn', 'rutgers', 'comma', 'crude', 'taxonomy', 'alcoholic', 'rom', 'caucasus', 'charlton', 'villains', 'eliminating', 'bodyclass', 'eighty', 'occupying', 'superhero', 'mao', 'baptiste', 'paz', 'sid', 'loads', 'lime', 'raleigh', 'crossover', 'karate', 'strengthened', 'brig', 'dickinson', 'drought', 'delays', 'socially', 'maccabi', 'ajax', 'chargers', 'rejection', 'schooling', 'caucus', 'counterparts', 'reconstructed', 'investigative', 'catcher', 'prev', 'thor', 'amnesty', 'tracked', 'surfaced', 'thirteenth', 'bohemian', 'failures', 'soviets', 'wichita', 'barriers', 'lottery', 'grateful', 'outskirts', 'turtles', 'meadow', 'electromagnetic', 'conan', 'likelihood', 'endowment', 'wiley', 'formatted', 'patriot', 'deacon', 'infrared', 'dioceses', 'specialists', 'julio', 'paso', 'kang', 'bourbon', 'tf', 'promoter', 'nineteen', 'surgeons', 'greco', 'militant', 'gable', 'quoting', 'thatcher', 'weigh', 'parma', 'librarian', 'chairs', 'vc', 'comedians', 'stressed', 'watches', 'undefeated', 'communal', 'tablet', 'palatinate', 'copying', 'flip', 'descriptive', 'shelf', 'upright', 'nursery', 'synod', 'packages', 'unsure', 'disclosure', 'emission', 'visually', 'correlation', 'ideals', 'av', 'disappearance', 'gong', 'derivatives', 'sammy', 'tong', 'possesses', 'adobe', 'deficit', 'premise', 'identities', 'avon', 'vega', 'rosario', 'tko', 'leap', 'transparency', 'everton', 'ri', 'lakers', 'sic', 'debated', 'ruin', 'sophomore', 'retailers', 'malawi', 'payload', 'subdivided', 'gf', 'substantive', 'devotion', 'punches', 'audit', 'méxico', 'steadily', 'noon', 'hist', 'inequality', 'lowland', 'strauss', 'informs', 'confession', 'mba', 'stunt', 'monopoly', 'niece', 'surf', 'spells', 'nationalists', 'nathaniel', 'gentle', 'patronage', 'transferring', 'kc', 'playboy', 'penguins', 'transgender', 'eisenhower', 'opus', 'linebacker', 'chatham', 'communion', 'jewelry', 'probe', 'sharma', 'gases', 'malls', 'ro', 'organist', 'pertaining', 'intersections', 'russo', 'candidacy', 'concurrently', 'laguna', 'elevator', 'discs', 'ironically', 'lenin', 'breton', 'patience', 'pedestrian', 'peggy', 'tucson', 'cares', 'issuing', 'apelor', 'nickel', 'verbs', 'catching', 'orchid', 'calculate', 'comprise', 'screenwriters', 'maj', 'manned', 'alexis', 'instituted', 'namesake', 'libyan', 'mentally', 'ir', 'liang', 'quotations', 'oxfordshire', 'townsend', 'cw', 'tear', 'unpublished', 'subordinate', 'heroic', 'shine', 'regain', 'determines', 'onset', 'sounding', 'branding', 'pf', 'recreate', 'adjoining', 'peasant', 'rebuilding', 'infections', 'violinist', 'mongol', 'ntupdate', 'botswana', 'exclusion', 'magistrate', 'unstable', 'murderer', 'deborah', 'uncivil', 'leicestershire', 'promptly', 'arte', 'alejandro', 'killings', 'orient', 'gymnasts', 'balkan', 'pascal', 'readings', 'venetian', 'vocabulary', 'cum', 'destructive', 'judo', 'signpost', 'translates', 'differing', 'eli', 'cane', 'innocence', 'npr', 'arrows', 'calculation', 'innovations', 'croix', 'abundance', 'cyber', 'pauline', 'ego', 'litigation', 'ua', 'hooks', 'nwa', 'bangladeshi', 'motives', 'coats', 'mia', 'possessions', 'meridian', 'examinations', 'bayern', 'cv', 'satirical', 'reissued', 'wrapped', 'harriet', 'audition', 'enjoys', 'cluebot', 'sampling', 'brackets', 'insists', 'newest', 'amor', 'hubbard', 'merry', 'backgrounds', 'fragment', 'nottinghamshire', 'beginnings', 'busch', 'ancestral', 'dalton', 'magnificent', 'lethal', 'banana', 'guerrero', 'usaf', 'friction', 'comparisons', 'madness', 'routledge', 'mutations', 'assassin', 'histoire', 'canals', 'harding', 'conceptual', 'daddy', 'occupational', 'guinness', 'inscribed', 'adler', 'acronym', 'forthcoming', 'carpet', 'felipe', 'hamlets', 'buzz', 'unfamiliar', 'recorder', 'intake', 'unhappy', 'seventeenth', 'fundraising', 'laden', 'byrd', 'homage', 'chiefly', 'fuck', 'cooke', 'hulk', 'grandchildren', 'suppression', 'mae', 'establishes', 'antony', 'natal', 'contention', 'unix', 'conform', 'ernie', 'chandra', 'beard', 'coca', 'usable', 'teammates', 'concord', 'macarthur', 'maltese', 'discretion', 'sorting', 'tottenham', 'bel', 'worcestershire', 'danube', 'garland', 'builders', 'wetlands', 'côte', 'mapped', 'cooled', 'bas', 'temporal', 'misunderstanding', 'boyle', 'moody', 'detained', 'beacon', 'coaster', 'baja', 'blah', 'nobles', 'oilers', 'arches', 'examining', 'hazard', 'titan', 'cables', 'psychedelic', 'qaeda', 'forrest', 'realise', 'obligations', 'osborne', 'somali', 'mma', 'reminiscent', 'recruitment', 'flats', 'obligation', 'libertarian', 'weiss', 'corrections', 'wembley', 'debts', 'answering', 'rigid', 'flores', 'enlightenment', 'sect', 'focal', 'fielding', 'abolition', 'gps', 'citadel', 'gravel', 'secretaries', 'oswald', 'noir', 'martyr', 'institut', 'myths', 'anterior', 'sticks', 'nb', 'suppressed', 'analogy', 'golfers', 'labelled', 'zinc', 'beans', 'mclean', 'shrewsbury', 'turbines', 'ourselves', 'textbooks', 'ang', 'tractor', 'typing', 'borne', 'sting', 'pic', 'cents', 'excited', 'speedily', 'scandinavian', 'atari', 'unblocked', 'inlet', 'fairfield', 'pounder', 'minimize', 'substituted', 'chronological', 'satisfaction', 'pattern_ra', 'remedies', '~~', 'polynomial', 'butter', 'fourteenth', 'posterior', 'float', 'persuade', 'cyrus', 'wherever', 'pattern_la', 'om', 'laptop', 'spartak', '#default', 'derry', 'rhetoric', 'sunrise', 'equestrian', 'render', 'nhs', 'plantations', 'enthusiasm', 'repository', 'propeller', 'morse', 'stadiums', 'nk', 'maturity', 'outfit', 'inflammatory', 'habsburg', 'bombings', 'schwartz', 'drain', 'nate', 'strasbourg', 'lemon', 'norte', 'brennan', 'ions', 'workforce', 'honourable', 'predict', 'bullying', 'graveyard', 'afro', 'mortal', '±', 'nuts', 'visions', 'poisoning', 'combustion', 'commandant', 'enduring', 'mn', 'exceeded', 'por', 'clans', 'tuberculosis', 'warships', 'eddy', 'caldwell', 'eco', 'foul', 'bentley', 'physicists', 'ankara', 'geelong', 'organism', 'beaumont', 'gorge', 'mcgill', 'retrospective', 'nolan', 'procession', 'rb', 'weir', 'panther', 'foremost', 'aragon', 'palermo', 'jaw', 'explores', 'baritone', 'kilkenny', 'annals', 'ceramic', 'pony', 'cornelius', 'detainees', 'neural', 'moor', 'ssr', 'abbas', 'collaborations', 'tidal', 'hui', 'announce', 'calculations', 'congregations', 'unification', 'cartoonist', 'improper', 'panorama', 'dividing', 'nt', 'grouping', 'mural', 'torque', '/c', 'hatred', 'productivity', 'dans', 'exempt', 'soundtracks', 'futsal', 'monumental', 'anaheim', 'spends', 'economically', 'wolverhampton', 'spire', 'centro', 'brakes', 'predecessors', 'jays', 'expresses', 'basal', 'versa', 'packed', 'landings', 'categorization', 'accomplish', 'warden', 'wholesale', 'dial', 'asphalt', 'clarified', 'blockade', 'laurie', 'middleton', 'flynn', 'toby', 'mole', 'nicholson', 'cheaper', 'piedmont', 'refrain', 'otters', 'patrons', 'corporal', 'sparks', 'berger', 'jain', 'trolling', 'coliseum', 'aero', 'turnpike', 'historia', 'offerings', 'smell', 'moreno', 'oversaw', 'bamboo', 'lockheed', 'meals', 'charging', 'dal', 'unchanged', 'foo', 'observing', 'setup', 'metallic', 'respiratory', 'militants', 'correspond', 'rowers', 'navbox', 'lean', 'proposes', 'sweep', 'meredith', 'purdue', 'nissan', 'calculus', 'steals', 'samantha', 'constructing', 'babylon', 'huddersfield', 'rabbis', 'donor', 'smash', 'putnam', 'drowned', 'hut', 'salzburg', 'devised', 'dillon', 'pressures', 'mountainous', 'rented', 'musée', 'veronica', 'brock', 'galicia', 'pal', 'gus', 'abused', 'famed', 'tiles', 'drift', 'brewing', 'canary', 'humour', 'olympia', 'radial', 'bk', 'córdoba', 'nude', 'currents', 'reservoirs', 'feminism', 'resembling', 'québec', 'transitional', 'straightforward', 'waterford', 'divers', 'shia', 'insee', 'averaging', 'famine', 'willy', 'greens', 'ramsey', 'honoured', 'guangzhou', 'teatro', 'unsuitable', 'metacritic', 'ling', 'summoned', 'indirectly', 'reflections', 'jurisdictions', 'wyatt', 'cfd', 'manifesto', 'shan', 'cadets', 'depictions', 'clicking', 'utilities', 'figured', 'explosives', 'paradox', 'minsk', 'conferred', 'chrome', 'scroll', 'tramway', 'solicitor', 'niche', 'crap', 'lifting', 'expecting', 'doncaster', 'regulate', 'defenses', 'experiencing', 'agf', 'shirts', 'ts', 'marquess', 'undue', 'wax', 'motive', 'hutchinson', 'overturned', 'tango', 'lara', 'strokes', 'infectious', 'reinstated', 'mont', 'pigeon', 'lyons', 'stole', 'daylight', 'fertile', 'stairs', 'patrols', 'updating', 'slender', 'ut', 'botany', 'dignity', 'apples'])"
            ]
          },
          "metadata": {},
          "execution_count": 144
        }
      ]
    },
    {
      "cell_type": "code",
      "execution_count": 155,
      "metadata": {
        "id": "DvrGi8N0J69X",
        "colab": {
          "base_uri": "https://localhost:8080/"
        },
        "outputId": "ac77e6c2-47f9-4878-f6fb-1260993e4123"
      },
      "outputs": [
        {
          "output_type": "stream",
          "name": "stdout",
          "text": [
            "\n",
            "john\n",
            "paul\n",
            "mike\n",
            "kevin\n",
            "steve\n",
            "greg\n",
            "jeff\n",
            "bill\n",
            "0.01713961933247468\n",
            "john\n",
            "paul\n",
            "mike\n",
            "kevin\n",
            "steve\n",
            "greg\n",
            "jeff\n",
            "bill\n",
            "0.008555922629500418\n",
            "john\n",
            "paul\n",
            "mike\n",
            "kevin\n",
            "steve\n",
            "greg\n",
            "jeff\n",
            "bill\n",
            "0.07517039362220646\n",
            "john\n",
            "paul\n",
            "mike\n",
            "kevin\n",
            "steve\n",
            "greg\n",
            "jeff\n",
            "bill\n",
            "0.020974561160362143\n",
            "john\n",
            "paul\n",
            "mike\n",
            "kevin\n",
            "steve\n",
            "greg\n",
            "jeff\n",
            "bill\n",
            "0.03826680984950162\n",
            "john\n",
            "paul\n",
            "mike\n",
            "kevin\n",
            "steve\n",
            "greg\n",
            "jeff\n",
            "bill\n",
            "-0.009149594561707386\n",
            "john\n",
            "paul\n",
            "mike\n",
            "kevin\n",
            "steve\n",
            "greg\n",
            "jeff\n",
            "bill\n",
            "-0.002031471271222135\n",
            "john\n",
            "paul\n",
            "mike\n",
            "kevin\n",
            "steve\n",
            "greg\n",
            "jeff\n",
            "bill\n",
            "0.05856239715589301\n",
            "john\n",
            "paul\n",
            "mike\n",
            "kevin\n",
            "steve\n",
            "greg\n",
            "jeff\n",
            "bill\n",
            "john\n",
            "paul\n",
            "mike\n",
            "kevin\n",
            "steve\n",
            "greg\n",
            "jeff\n",
            "bill\n",
            "john\n",
            "paul\n",
            "mike\n",
            "kevin\n",
            "steve\n",
            "greg\n",
            "jeff\n",
            "bill\n",
            "john\n",
            "paul\n",
            "mike\n",
            "kevin\n",
            "steve\n",
            "greg\n",
            "jeff\n",
            "bill\n",
            "john\n",
            "paul\n",
            "mike\n",
            "kevin\n",
            "steve\n",
            "greg\n",
            "jeff\n",
            "bill\n",
            "john\n",
            "paul\n",
            "mike\n",
            "kevin\n",
            "steve\n",
            "greg\n",
            "jeff\n",
            "bill\n",
            "john\n",
            "paul\n",
            "mike\n",
            "kevin\n",
            "steve\n",
            "greg\n",
            "jeff\n",
            "bill\n",
            "john\n",
            "paul\n",
            "mike\n",
            "kevin\n",
            "steve\n",
            "greg\n",
            "jeff\n",
            "bill\n",
            "Word embedding association test: 0.847\n"
          ]
        }
      ],
      "source": [
        "## Replicate one of the experiments from:\n",
        "##\n",
        "## Semantics derived automatically from language corpora contain human-like biases\n",
        "## Caliskan, Bryson, Narayanan (2017)\n",
        "\n",
        "career = ['executive', 'management', 'professional', 'corporation', \n",
        "          'salary', 'office', 'business', 'career']\n",
        "family = ['home', 'parents', 'children', 'family',\n",
        "          'cousins', 'marriage', 'wedding', 'relatives']\n",
        "male = ['john', 'paul', 'mike', 'kevin', 'steve', 'greg', 'jeff', 'bill']\n",
        "female = ['amy', 'joan', 'lisa', 'sarah', 'diana', 'kate', 'ann', 'donna']\n",
        "\n",
        "print('')\n",
        "print('Word embedding association test: %.3f' %\n",
        "      weat(career, family, male, female, word_vectors))"
      ]
    },
    {
      "cell_type": "markdown",
      "metadata": {
        "id": "dYFFvhk1J69X"
      },
      "source": [
        "## Word translation using word vectors\n",
        "\n",
        "In the following, we will use word vectors in English and French to translate words from English to French. The idea is to learn a linear function that maps English word vectors to their correponding French word vectors. To learn this linear mapping, we will use a small bilingual lexicon, that contains pairs of words in English and French that are translations of each other.\n",
        "\n",
        "The following function will load the small English-French bilingual lexicon:"
      ]
    },
    {
      "cell_type": "code",
      "execution_count": 138,
      "metadata": {
        "id": "CAlLXD-lJ69X"
      },
      "outputs": [],
      "source": [
        "def load_lexicon(filename):\n",
        "    '''\n",
        "    Parameters:\n",
        "    filename(string): the path of the lexicon\n",
        "    \n",
        "    Returns:\n",
        "    data(list of pairs of string): the bilingual lexicon\n",
        "    '''\n",
        "    fin = io.open(filename, 'r', encoding='utf-8', newline='\\n')\n",
        "    data = []\n",
        "    for line in fin:\n",
        "        a, b = line.rstrip().split(' ')\n",
        "        data.append((a, b))\n",
        "    return data"
      ]
    },
    {
      "cell_type": "code",
      "execution_count": 139,
      "metadata": {
        "id": "e26HaLQNJ69X",
        "colab": {
          "base_uri": "https://localhost:8080/"
        },
        "outputId": "7684c0f9-437c-4575-9373-6d41574ba74e"
      },
      "outputs": [
        {
          "output_type": "stream",
          "name": "stdout",
          "text": [
            "[('the', 'le'), ('the', 'les'), ('the', 'la'), ('and', 'et'), ('was', 'fut')]\n"
          ]
        }
      ],
      "source": [
        "word_vectors_en = load_vectors('wiki.en.vec')\n",
        "word_vectors_fr = load_vectors('wiki.fr.vec')\n",
        "lexicon = load_lexicon(\"lexicon-en-fr.txt\")\n",
        "print(lexicon[:5])"
      ]
    },
    {
      "cell_type": "code",
      "execution_count": 140,
      "metadata": {
        "id": "rZsur36PJ69X"
      },
      "outputs": [],
      "source": [
        "# We split the lexicon into a train and validation set\n",
        "train = lexicon[:5000]\n",
        "valid = lexicon[5000:5100]"
      ]
    },
    {
      "cell_type": "markdown",
      "metadata": {
        "id": "fMXYAcXxJ69X"
      },
      "source": [
        "The following function will learn the mapping from English to French. The idea is to build two matrices $X_{\\text{en}}$ and $X_{\\text{fr}}$, and to find a mapping $M$ that minimizes $||X_{\\text{en}} W - X_{\\text{fr}} ||_2$. In numpy, this mapping can be obtained by using the `numpy.linalg.lstsq` function."
      ]
    },
    {
      "cell_type": "code",
      "execution_count": 156,
      "metadata": {
        "id": "rQgOsZKLJ69Y"
      },
      "outputs": [],
      "source": [
        "def align(word_vectors_en, word_vectors_fr, lexicon):\n",
        "    '''\n",
        "    Parameters:\n",
        "    word_vectors_en(dict: string -> np.array): English word vectors\n",
        "    word_vectors_en(dict: string -> np.array): French word vectors\n",
        "    lexicon(list of pairs of string): bilingual training lexicon\n",
        "    \n",
        "    Returns\n",
        "    mapping(np.array): the mapping from English to French vectors\n",
        "    '''\n",
        "    x_en, x_fr = [], []\n",
        "    ## FILL CODE\n",
        "    for i in range(len(lexicon)):\n",
        "      x_en.append(word_vectors_en[lexicon[i][0]])\n",
        "      x_fr.append(word_vectors_fr[lexicon[i][1]])\n",
        "\n",
        "    x_en =np.array(x_en)\n",
        "    x_fr =np.array(x_fr)\n",
        "    M = np.linalg.lstsq(x_en , x_fr)[0]\n",
        "    return M"
      ]
    },
    {
      "cell_type": "code",
      "source": [
        "mapping = align(word_vectors_en, word_vectors_fr, lexicon)"
      ],
      "metadata": {
        "id": "ftvc3xunauwU"
      },
      "execution_count": 157,
      "outputs": []
    },
    {
      "cell_type": "code",
      "execution_count": 159,
      "metadata": {
        "id": "yHojrHbjJ69Y",
        "colab": {
          "base_uri": "https://localhost:8080/"
        },
        "outputId": "f5a4c8b6-54e3-482c-8c17-f4a54eea4893"
      },
      "outputs": [
        {
          "output_type": "execute_result",
          "data": {
            "text/plain": [
              "array([[-0.06183285, -0.01071552,  0.00175985, ..., -0.01107046,\n",
              "         0.01629405, -0.01644996],\n",
              "       [-0.01655313, -0.02930488,  0.09810107, ..., -0.01744702,\n",
              "        -0.02848298,  0.02070179],\n",
              "       [-0.01970861, -0.0147154 ,  0.01231819, ...,  0.03036093,\n",
              "        -0.00209909, -0.00944313],\n",
              "       ...,\n",
              "       [ 0.0669847 ,  0.02351181,  0.02041902, ...,  0.00886501,\n",
              "         0.08635366,  0.00595836],\n",
              "       [ 0.01936122,  0.00552446,  0.01234669, ..., -0.00623332,\n",
              "        -0.05116348,  0.05634361],\n",
              "       [ 0.00530333, -0.03424679, -0.03369923, ..., -0.01344391,\n",
              "        -0.00051053, -0.00491391]])"
            ]
          },
          "metadata": {},
          "execution_count": 159
        }
      ],
      "source": [
        "mapping"
      ]
    },
    {
      "cell_type": "markdown",
      "metadata": {
        "id": "eVGeJgj9J69Y"
      },
      "source": [
        "Given a mapping, a set of word English word vector and French word vectors, the next function will translate the English word to French. To do so, we apply the mapping on the English word, and retrieve the nearest neighbor of the obtained vector in the set of French word vectors. The translation is then the corresponding French word."
      ]
    },
    {
      "cell_type": "code",
      "execution_count": null,
      "metadata": {
        "id": "1PR242y5J69Y"
      },
      "outputs": [],
      "source": [
        "def translate(word, word_vectors_en, word_vectors_fr, mapping):\n",
        "    '''\n",
        "    Parameters:\n",
        "    word(string): an English word\n",
        "    word_vectors_en(dict: string -> np.array): English word vectors\n",
        "    word_vectors_fr(dict: string -> np.array): French word vectors\n",
        "    mapping(np.array): the mapping from English to French vectors\n",
        "    \n",
        "    Returns\n",
        "    A string containing the translation of the English word\n",
        "    '''\n",
        "    ## FILL CODE\n",
        "    word_vects = word_vectors_en[word]\n",
        "    np.dot(word_vects , mapping)\n",
        "    \n",
        "      \n",
        "      \n",
        "\n",
        "\n",
        "\n",
        "    return None"
      ]
    },
    {
      "cell_type": "code",
      "execution_count": null,
      "metadata": {
        "id": "nC99m4GiJ69Y"
      },
      "outputs": [],
      "source": [
        "print(translate(\"world\", word_vectors_en, word_vectors_fr, mapping))\n",
        "print(translate(\"machine\", word_vectors_en, word_vectors_fr, mapping))\n",
        "print(translate(\"learning\", word_vectors_en, word_vectors_fr, mapping))"
      ]
    },
    {
      "cell_type": "markdown",
      "metadata": {
        "id": "dHrJIvtdJ69Y"
      },
      "source": [
        "Finally, let's implement a function to evaluate this method on the validation lexicon:"
      ]
    },
    {
      "cell_type": "code",
      "execution_count": null,
      "metadata": {
        "id": "J8MtBmBEJ69Y"
      },
      "outputs": [],
      "source": [
        "def evaluate(valid, word_vectors_en, word_vectors_fr, mapping):\n",
        "    '''\n",
        "    Parameters:\n",
        "    valid(a list of pairs of string): the validation lexicon\n",
        "    word_vectors_en(dict: string -> np.array): English word vectors\n",
        "    word_vectors_en(dict: string -> np.array): French word vectors\n",
        "    mapping(np.array): the mapping from English to French vectors\n",
        "    \n",
        "    Returns\n",
        "    Accuracy(float): the accuracy on the validation lexicon\n",
        "    '''\n",
        "    acc, n = 0.0, 0\n",
        "    \n",
        "    ## FILL CODE\n",
        "\n",
        "    return acc"
      ]
    },
    {
      "cell_type": "code",
      "execution_count": null,
      "metadata": {
        "id": "8RpEvlwVJ69Y"
      },
      "outputs": [],
      "source": [
        "evaluate(valid, word_vectors_en, word_vectors_fr, mapping)"
      ]
    },
    {
      "cell_type": "code",
      "execution_count": null,
      "metadata": {
        "id": "eSaEXa2IJ69Y"
      },
      "outputs": [],
      "source": [
        ""
      ]
    }
  ],
  "metadata": {
    "kernelspec": {
      "display_name": "Python 3",
      "language": "python",
      "name": "python3"
    },
    "language_info": {
      "codemirror_mode": {
        "name": "ipython",
        "version": 3
      },
      "file_extension": ".py",
      "mimetype": "text/x-python",
      "name": "python",
      "nbconvert_exporter": "python",
      "pygments_lexer": "ipython3",
      "version": "3.6.2+"
    },
    "colab": {
      "name": "Raissa_Edwige _intro_to_wordvectors.ipynb",
      "provenance": [],
      "collapsed_sections": [],
      "include_colab_link": true
    }
  },
  "nbformat": 4,
  "nbformat_minor": 0
}